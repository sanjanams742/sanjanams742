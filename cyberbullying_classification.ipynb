{
  "cells": [
    {
      "cell_type": "markdown",
      "metadata": {
        "id": "view-in-github",
        "colab_type": "text"
      },
      "source": [
        "<a href=\"https://colab.research.google.com/github/sanjanams742/sanjanams742/blob/main/cyberbullying_classification.ipynb\" target=\"_parent\"><img src=\"https://colab.research.google.com/assets/colab-badge.svg\" alt=\"Open In Colab\"/></a>"
      ]
    },
    {
      "cell_type": "markdown",
      "metadata": {
        "id": "hx-Js7nE18g1"
      },
      "source": [
        "**PROJECT TITLE: Cyberbullying Classification**"
      ]
    },
    {
      "cell_type": "markdown",
      "metadata": {
        "id": "lPLp9y7BwHUs"
      },
      "source": [
        "**Visualization and Prediction using NLP**\n",
        "\n",
        "As social media usage becomes increasingly prevalent in every age group, a vast majority of citizens rely on this essential medium for day-to-day communication. Social media’s ubiquity means that cyberbullying can effectively impact anyone at any time or anywhere, and the relative anonymity of the internet makes such personal attacks more difficult to stop than traditional bullying.\n",
        "\n",
        "On April 15th, 2020, UNICEF issued a warning in response to the increased risk of cyberbullying during the COVID-19 pandemic due to widespread school closures, increased screen time, and decreased face-to-face social interaction. The statistics of cyberbullying are outright alarming: 36.5% of middle and high school students have felt cyberbullied and 87% have observed cyberbullying, with effects ranging from decreased academic performance to depression to suicidal thoughts.\n",
        "\n",
        "In light of all of this, this dataset contains more than 47000 tweets labelled according to the class of cyberbullying:\n",
        "\n",
        "Age\n",
        "Ethnicity\n",
        "Gender\n",
        "Religion\n",
        "Other type of cyberbullying\n",
        "Not cyberbullying\n",
        "\n",
        "Trigger Warning: These tweets either describe a bullying event or are the offense themselves, therefore explore it to the point where you feel comfortable.\n",
        "\n",
        "In this project, I'm going to analyze the tweets, plot some visualizations, process them with different NLP techniques like TFIDF and Word2Vec and finally evaluate predictions of various ML Classifiers and RNN.\n",
        "\n",
        "Let's get started 😇"
      ]
    },
    {
      "cell_type": "markdown",
      "metadata": {
        "id": "QxFUrT1GwMhs"
      },
      "source": [
        "**Importing Libraries**"
      ]
    },
    {
      "cell_type": "code",
      "execution_count": null,
      "metadata": {
        "id": "q9kQGj66k-WW"
      },
      "outputs": [],
      "source": [
        "# Utility\n",
        "import numpy as np\n",
        "import pandas as pd\n",
        "import pickle\n",
        "\n",
        "# Plotting\n",
        "import seaborn as sns\n",
        "from wordcloud import WordCloud\n",
        "import matplotlib.pyplot as plt\n",
        "%matplotlib inline\n",
        "\n",
        "# nltk\n",
        "import nltk\n",
        "from nltk.stem import WordNetLemmatizer\n",
        "from nltk.corpus import stopwords\n",
        "from nltk.tokenize import word_tokenize\n",
        "from string import punctuation\n",
        "\n",
        "# sklearn\n",
        "from sklearn.model_selection import train_test_split\n",
        "from sklearn.feature_extraction.text import TfidfVectorizer\n",
        "from sklearn.metrics import confusion_matrix, classification_report\n",
        "from sklearn.linear_model import LogisticRegression\n",
        "from sklearn.naive_bayes import MultinomialNB\n",
        "from sklearn.ensemble import RandomForestClassifier"
      ]
    },
    {
      "cell_type": "code",
      "execution_count": null,
      "metadata": {
        "id": "vMQ93eqmlVT4"
      },
      "outputs": [],
      "source": [
        "import warnings\n",
        "warnings.filterwarnings('ignore')"
      ]
    },
    {
      "cell_type": "code",
      "execution_count": null,
      "metadata": {
        "colab": {
          "base_uri": "https://localhost:8080/"
        },
        "id": "TFA4iw2SlZIu",
        "outputId": "2ce005fa-e16a-41d8-d52b-b03841c90eca"
      },
      "outputs": [
        {
          "name": "stdout",
          "output_type": "stream",
          "text": [
            "unzip:  cannot find or open /usr/share/nltk_data/corpora/wordnet.zip, /usr/share/nltk_data/corpora/wordnet.zip.zip or /usr/share/nltk_data/corpora/wordnet.zip.ZIP.\n"
          ]
        }
      ],
      "source": [
        "!unzip /usr/share/nltk_data/corpora/wordnet.zip -d /usr/share/nltk_data/corpora/"
      ]
    },
    {
      "cell_type": "markdown",
      "metadata": {
        "id": "y4UtRZCbwwqm"
      },
      "source": [
        "**Data Import**"
      ]
    },
    {
      "cell_type": "code",
      "execution_count": null,
      "metadata": {
        "colab": {
          "base_uri": "https://localhost:8080/",
          "height": 221
        },
        "id": "CsoKNAsgmOPw",
        "outputId": "1c00a24e-76ca-47c9-9f9e-bf397bf85c72"
      },
      "outputs": [
        {
          "data": {
            "application/vnd.google.colaboratory.intrinsic+json": {
              "summary": "{\n  \"name\": \"df\",\n  \"rows\": 5,\n  \"fields\": [\n    {\n      \"column\": \"tweet_text\",\n      \"properties\": {\n        \"dtype\": \"string\",\n        \"num_unique_values\": 5,\n        \"samples\": [\n          \"By the way, how the hell u have compared @RSSorg with a cheap Muhajid who will soon join daesh and ISIS for gazwa-e-hind!!! Those 800 yrs are over, in which few Hindus got converted to islam in 2Rs . Enough we have seen Islamic terrorism!!!\",\n          \"I just had flashbacks to when a Jamaican girl in my secondary school said it during DT and our Jamaican DT teacher lost her fucking MIND I truly I thought I was about to watch this Christian woman beat my friend right in front of me\",\n          \"RT @NamAndKang: [VIDEO] WINNER #\\u00ec\\u009c\\u0084\\u00eb\\u0084\\u0088 - MelOn Release Event https://t.co/9gfbae1mzW\"\n        ],\n        \"semantic_type\": \"\",\n        \"description\": \"\"\n      }\n    },\n    {\n      \"column\": \"cyberbullying_type\",\n      \"properties\": {\n        \"dtype\": \"string\",\n        \"num_unique_values\": 4,\n        \"samples\": [\n          \"religion\",\n          \"ethnicity\",\n          \"gender\"\n        ],\n        \"semantic_type\": \"\",\n        \"description\": \"\"\n      }\n    }\n  ]\n}",
              "type": "dataframe"
            },
            "text/html": [
              "\n",
              "  <div id=\"df-cfb7d5c2-f3f6-4908-9ba1-c8476e4888e1\" class=\"colab-df-container\">\n",
              "    <div>\n",
              "<style scoped>\n",
              "    .dataframe tbody tr th:only-of-type {\n",
              "        vertical-align: middle;\n",
              "    }\n",
              "\n",
              "    .dataframe tbody tr th {\n",
              "        vertical-align: top;\n",
              "    }\n",
              "\n",
              "    .dataframe thead th {\n",
              "        text-align: right;\n",
              "    }\n",
              "</style>\n",
              "<table border=\"1\" class=\"dataframe\">\n",
              "  <thead>\n",
              "    <tr style=\"text-align: right;\">\n",
              "      <th></th>\n",
              "      <th>tweet_text</th>\n",
              "      <th>cyberbullying_type</th>\n",
              "    </tr>\n",
              "  </thead>\n",
              "  <tbody>\n",
              "    <tr>\n",
              "      <th>10871</th>\n",
              "      <td>@DrJoanBeckwith You don't regard Ford as a pro...</td>\n",
              "      <td>gender</td>\n",
              "    </tr>\n",
              "    <tr>\n",
              "      <th>20902</th>\n",
              "      <td>By the way, how the hell u have compared @RSSo...</td>\n",
              "      <td>religion</td>\n",
              "    </tr>\n",
              "    <tr>\n",
              "      <th>3926</th>\n",
              "      <td>RT @NamAndKang: [VIDEO] WINNER #ìë - MelOn...</td>\n",
              "      <td>not_cyberbullying</td>\n",
              "    </tr>\n",
              "    <tr>\n",
              "      <th>45231</th>\n",
              "      <td>.@tylerrjoseph follow me on ur stan acc asf u ...</td>\n",
              "      <td>ethnicity</td>\n",
              "    </tr>\n",
              "    <tr>\n",
              "      <th>19262</th>\n",
              "      <td>I just had flashbacks to when a Jamaican girl ...</td>\n",
              "      <td>religion</td>\n",
              "    </tr>\n",
              "  </tbody>\n",
              "</table>\n",
              "</div>\n",
              "    <div class=\"colab-df-buttons\">\n",
              "\n",
              "  <div class=\"colab-df-container\">\n",
              "    <button class=\"colab-df-convert\" onclick=\"convertToInteractive('df-cfb7d5c2-f3f6-4908-9ba1-c8476e4888e1')\"\n",
              "            title=\"Convert this dataframe to an interactive table.\"\n",
              "            style=\"display:none;\">\n",
              "\n",
              "  <svg xmlns=\"http://www.w3.org/2000/svg\" height=\"24px\" viewBox=\"0 -960 960 960\">\n",
              "    <path d=\"M120-120v-720h720v720H120Zm60-500h600v-160H180v160Zm220 220h160v-160H400v160Zm0 220h160v-160H400v160ZM180-400h160v-160H180v160Zm440 0h160v-160H620v160ZM180-180h160v-160H180v160Zm440 0h160v-160H620v160Z\"/>\n",
              "  </svg>\n",
              "    </button>\n",
              "\n",
              "  <style>\n",
              "    .colab-df-container {\n",
              "      display:flex;\n",
              "      gap: 12px;\n",
              "    }\n",
              "\n",
              "    .colab-df-convert {\n",
              "      background-color: #E8F0FE;\n",
              "      border: none;\n",
              "      border-radius: 50%;\n",
              "      cursor: pointer;\n",
              "      display: none;\n",
              "      fill: #1967D2;\n",
              "      height: 32px;\n",
              "      padding: 0 0 0 0;\n",
              "      width: 32px;\n",
              "    }\n",
              "\n",
              "    .colab-df-convert:hover {\n",
              "      background-color: #E2EBFA;\n",
              "      box-shadow: 0px 1px 2px rgba(60, 64, 67, 0.3), 0px 1px 3px 1px rgba(60, 64, 67, 0.15);\n",
              "      fill: #174EA6;\n",
              "    }\n",
              "\n",
              "    .colab-df-buttons div {\n",
              "      margin-bottom: 4px;\n",
              "    }\n",
              "\n",
              "    [theme=dark] .colab-df-convert {\n",
              "      background-color: #3B4455;\n",
              "      fill: #D2E3FC;\n",
              "    }\n",
              "\n",
              "    [theme=dark] .colab-df-convert:hover {\n",
              "      background-color: #434B5C;\n",
              "      box-shadow: 0px 1px 3px 1px rgba(0, 0, 0, 0.15);\n",
              "      filter: drop-shadow(0px 1px 2px rgba(0, 0, 0, 0.3));\n",
              "      fill: #FFFFFF;\n",
              "    }\n",
              "  </style>\n",
              "\n",
              "    <script>\n",
              "      const buttonEl =\n",
              "        document.querySelector('#df-cfb7d5c2-f3f6-4908-9ba1-c8476e4888e1 button.colab-df-convert');\n",
              "      buttonEl.style.display =\n",
              "        google.colab.kernel.accessAllowed ? 'block' : 'none';\n",
              "\n",
              "      async function convertToInteractive(key) {\n",
              "        const element = document.querySelector('#df-cfb7d5c2-f3f6-4908-9ba1-c8476e4888e1');\n",
              "        const dataTable =\n",
              "          await google.colab.kernel.invokeFunction('convertToInteractive',\n",
              "                                                    [key], {});\n",
              "        if (!dataTable) return;\n",
              "\n",
              "        const docLinkHtml = 'Like what you see? Visit the ' +\n",
              "          '<a target=\"_blank\" href=https://colab.research.google.com/notebooks/data_table.ipynb>data table notebook</a>'\n",
              "          + ' to learn more about interactive tables.';\n",
              "        element.innerHTML = '';\n",
              "        dataTable['output_type'] = 'display_data';\n",
              "        await google.colab.output.renderOutput(dataTable, element);\n",
              "        const docLink = document.createElement('div');\n",
              "        docLink.innerHTML = docLinkHtml;\n",
              "        element.appendChild(docLink);\n",
              "      }\n",
              "    </script>\n",
              "  </div>\n",
              "\n",
              "\n",
              "<div id=\"df-5a97cbe4-4b7b-456c-a1ed-1b1a700ed94e\">\n",
              "  <button class=\"colab-df-quickchart\" onclick=\"quickchart('df-5a97cbe4-4b7b-456c-a1ed-1b1a700ed94e')\"\n",
              "            title=\"Suggest charts\"\n",
              "            style=\"display:none;\">\n",
              "\n",
              "<svg xmlns=\"http://www.w3.org/2000/svg\" height=\"24px\"viewBox=\"0 0 24 24\"\n",
              "     width=\"24px\">\n",
              "    <g>\n",
              "        <path d=\"M19 3H5c-1.1 0-2 .9-2 2v14c0 1.1.9 2 2 2h14c1.1 0 2-.9 2-2V5c0-1.1-.9-2-2-2zM9 17H7v-7h2v7zm4 0h-2V7h2v10zm4 0h-2v-4h2v4z\"/>\n",
              "    </g>\n",
              "</svg>\n",
              "  </button>\n",
              "\n",
              "<style>\n",
              "  .colab-df-quickchart {\n",
              "      --bg-color: #E8F0FE;\n",
              "      --fill-color: #1967D2;\n",
              "      --hover-bg-color: #E2EBFA;\n",
              "      --hover-fill-color: #174EA6;\n",
              "      --disabled-fill-color: #AAA;\n",
              "      --disabled-bg-color: #DDD;\n",
              "  }\n",
              "\n",
              "  [theme=dark] .colab-df-quickchart {\n",
              "      --bg-color: #3B4455;\n",
              "      --fill-color: #D2E3FC;\n",
              "      --hover-bg-color: #434B5C;\n",
              "      --hover-fill-color: #FFFFFF;\n",
              "      --disabled-bg-color: #3B4455;\n",
              "      --disabled-fill-color: #666;\n",
              "  }\n",
              "\n",
              "  .colab-df-quickchart {\n",
              "    background-color: var(--bg-color);\n",
              "    border: none;\n",
              "    border-radius: 50%;\n",
              "    cursor: pointer;\n",
              "    display: none;\n",
              "    fill: var(--fill-color);\n",
              "    height: 32px;\n",
              "    padding: 0;\n",
              "    width: 32px;\n",
              "  }\n",
              "\n",
              "  .colab-df-quickchart:hover {\n",
              "    background-color: var(--hover-bg-color);\n",
              "    box-shadow: 0 1px 2px rgba(60, 64, 67, 0.3), 0 1px 3px 1px rgba(60, 64, 67, 0.15);\n",
              "    fill: var(--button-hover-fill-color);\n",
              "  }\n",
              "\n",
              "  .colab-df-quickchart-complete:disabled,\n",
              "  .colab-df-quickchart-complete:disabled:hover {\n",
              "    background-color: var(--disabled-bg-color);\n",
              "    fill: var(--disabled-fill-color);\n",
              "    box-shadow: none;\n",
              "  }\n",
              "\n",
              "  .colab-df-spinner {\n",
              "    border: 2px solid var(--fill-color);\n",
              "    border-color: transparent;\n",
              "    border-bottom-color: var(--fill-color);\n",
              "    animation:\n",
              "      spin 1s steps(1) infinite;\n",
              "  }\n",
              "\n",
              "  @keyframes spin {\n",
              "    0% {\n",
              "      border-color: transparent;\n",
              "      border-bottom-color: var(--fill-color);\n",
              "      border-left-color: var(--fill-color);\n",
              "    }\n",
              "    20% {\n",
              "      border-color: transparent;\n",
              "      border-left-color: var(--fill-color);\n",
              "      border-top-color: var(--fill-color);\n",
              "    }\n",
              "    30% {\n",
              "      border-color: transparent;\n",
              "      border-left-color: var(--fill-color);\n",
              "      border-top-color: var(--fill-color);\n",
              "      border-right-color: var(--fill-color);\n",
              "    }\n",
              "    40% {\n",
              "      border-color: transparent;\n",
              "      border-right-color: var(--fill-color);\n",
              "      border-top-color: var(--fill-color);\n",
              "    }\n",
              "    60% {\n",
              "      border-color: transparent;\n",
              "      border-right-color: var(--fill-color);\n",
              "    }\n",
              "    80% {\n",
              "      border-color: transparent;\n",
              "      border-right-color: var(--fill-color);\n",
              "      border-bottom-color: var(--fill-color);\n",
              "    }\n",
              "    90% {\n",
              "      border-color: transparent;\n",
              "      border-bottom-color: var(--fill-color);\n",
              "    }\n",
              "  }\n",
              "</style>\n",
              "\n",
              "  <script>\n",
              "    async function quickchart(key) {\n",
              "      const quickchartButtonEl =\n",
              "        document.querySelector('#' + key + ' button');\n",
              "      quickchartButtonEl.disabled = true;  // To prevent multiple clicks.\n",
              "      quickchartButtonEl.classList.add('colab-df-spinner');\n",
              "      try {\n",
              "        const charts = await google.colab.kernel.invokeFunction(\n",
              "            'suggestCharts', [key], {});\n",
              "      } catch (error) {\n",
              "        console.error('Error during call to suggestCharts:', error);\n",
              "      }\n",
              "      quickchartButtonEl.classList.remove('colab-df-spinner');\n",
              "      quickchartButtonEl.classList.add('colab-df-quickchart-complete');\n",
              "    }\n",
              "    (() => {\n",
              "      let quickchartButtonEl =\n",
              "        document.querySelector('#df-5a97cbe4-4b7b-456c-a1ed-1b1a700ed94e button');\n",
              "      quickchartButtonEl.style.display =\n",
              "        google.colab.kernel.accessAllowed ? 'block' : 'none';\n",
              "    })();\n",
              "  </script>\n",
              "</div>\n",
              "\n",
              "    </div>\n",
              "  </div>\n"
            ],
            "text/plain": [
              "                                              tweet_text cyberbullying_type\n",
              "10871  @DrJoanBeckwith You don't regard Ford as a pro...             gender\n",
              "20902  By the way, how the hell u have compared @RSSo...           religion\n",
              "3926   RT @NamAndKang: [VIDEO] WINNER #ìë - MelOn...  not_cyberbullying\n",
              "45231  .@tylerrjoseph follow me on ur stan acc asf u ...          ethnicity\n",
              "19262  I just had flashbacks to when a Jamaican girl ...           religion"
            ]
          },
          "metadata": {},
          "output_type": "display_data"
        },
        {
          "data": {
            "text/plain": [
              "(47692, 2)"
            ]
          },
          "execution_count": 4,
          "metadata": {},
          "output_type": "execute_result"
        }
      ],
      "source": [
        "df = pd.read_csv('/content/cyberbullying_tweets.csv')\n",
        "display(df.sample(5))\n",
        "df.shape"
      ]
    },
    {
      "cell_type": "markdown",
      "metadata": {
        "id": "Tnk0vm6lw1mk"
      },
      "source": [
        "We can see there are 47692 tweets in total."
      ]
    },
    {
      "cell_type": "code",
      "execution_count": null,
      "metadata": {
        "colab": {
          "base_uri": "https://localhost:8080/"
        },
        "id": "Uzr6i1LgoMdj",
        "outputId": "cf8d9f71-0a24-4eed-d969-3e82f3fe7218"
      },
      "outputs": [
        {
          "data": {
            "text/plain": [
              "array(['not_cyberbullying', 'gender', 'religion', 'other_cyberbullying',\n",
              "       'age', 'ethnicity'], dtype=object)"
            ]
          },
          "execution_count": 5,
          "metadata": {},
          "output_type": "execute_result"
        }
      ],
      "source": [
        "df['cyberbullying_type'].unique()"
      ]
    },
    {
      "cell_type": "markdown",
      "metadata": {
        "id": "8qFIkPgww6Vt"
      },
      "source": [
        "They belong to 6 different classes, which are:\n",
        "\n",
        "Age, Gender, Ethnicity, Religion, Other and Not Cyberbullying"
      ]
    },
    {
      "cell_type": "code",
      "execution_count": null,
      "metadata": {
        "colab": {
          "base_uri": "https://localhost:8080/"
        },
        "id": "1GyL-XZMoMq0",
        "outputId": "462fe54c-58a8-4cc3-8285-d1b1414c3ed7"
      },
      "outputs": [
        {
          "name": "stdout",
          "output_type": "stream",
          "text": [
            "@BilalIGhumman @98Halima @johnnygjokaj @cdnKhadija @rfrankh53 The stupidist arguments are the ones rationalizing the barbarity of Islam.\n",
            "\n",
            "@Bo_OYoww: “@tayyoung_: FUCK OBAMA, dumb ass nigger”-- &amp; I guess you mad cuz you live on a farm lmao\n",
            "\n",
            "Queensland schools are cautiously watching the second wave of coronavirus outbreaks in southern states and bracing for a future of remote learning.\n",
            "\n",
            "@ctatplay @erinscafe @Mobute shhhh.\n",
            "\n",
            "The closest thing we have is Progressive policy. Read up on the founding of the Progressive movement. All White supremacists. They created policy like 'The Negro Project' (later called Planned Parenthood) to keep minority births down. The adopted the minimum wage to ensure....\n",
            "\n"
          ]
        }
      ],
      "source": [
        "for tweet in df.sample(5)['tweet_text']:\n",
        "    print(tweet +'\\n')"
      ]
    },
    {
      "cell_type": "markdown",
      "metadata": {
        "id": "61IA7-R_xCgc"
      },
      "source": [
        "This is what the tweets look like. Pretty toxic."
      ]
    },
    {
      "cell_type": "code",
      "execution_count": null,
      "metadata": {
        "colab": {
          "base_uri": "https://localhost:8080/"
        },
        "id": "8VWoydygoM2R",
        "outputId": "1dcbd5f9-81cd-4d36-b7da-88898a6c224e"
      },
      "outputs": [
        {
          "name": "stdout",
          "output_type": "stream",
          "text": [
            "<class 'pandas.core.frame.DataFrame'>\n",
            "RangeIndex: 47692 entries, 0 to 47691\n",
            "Data columns (total 2 columns):\n",
            " #   Column              Non-Null Count  Dtype \n",
            "---  ------              --------------  ----- \n",
            " 0   tweet_text          47692 non-null  object\n",
            " 1   cyberbullying_type  47692 non-null  object\n",
            "dtypes: object(2)\n",
            "memory usage: 745.3+ KB\n"
          ]
        }
      ],
      "source": [
        "df.info()"
      ]
    },
    {
      "cell_type": "code",
      "execution_count": null,
      "metadata": {
        "colab": {
          "base_uri": "https://localhost:8080/",
          "height": 173
        },
        "id": "dDvd5Xgkoq7R",
        "outputId": "f61e9546-5d85-4e2b-dd06-75fc8c268c71"
      },
      "outputs": [
        {
          "data": {
            "application/vnd.google.colaboratory.intrinsic+json": {
              "summary": "{\n  \"name\": \"df\",\n  \"rows\": 4,\n  \"fields\": [\n    {\n      \"column\": \"tweet_text\",\n      \"properties\": {\n        \"dtype\": \"string\",\n        \"num_unique_values\": 4,\n        \"samples\": [\n          46017,\n          \"2\",\n          \"47692\"\n        ],\n        \"semantic_type\": \"\",\n        \"description\": \"\"\n      }\n    },\n    {\n      \"column\": \"cyberbullying_type\",\n      \"properties\": {\n        \"dtype\": \"string\",\n        \"num_unique_values\": 4,\n        \"samples\": [\n          6,\n          \"7998\",\n          \"47692\"\n        ],\n        \"semantic_type\": \"\",\n        \"description\": \"\"\n      }\n    }\n  ]\n}",
              "type": "dataframe"
            },
            "text/html": [
              "\n",
              "  <div id=\"df-bf02701b-5c1d-4029-bceb-dc7ab339e0e2\" class=\"colab-df-container\">\n",
              "    <div>\n",
              "<style scoped>\n",
              "    .dataframe tbody tr th:only-of-type {\n",
              "        vertical-align: middle;\n",
              "    }\n",
              "\n",
              "    .dataframe tbody tr th {\n",
              "        vertical-align: top;\n",
              "    }\n",
              "\n",
              "    .dataframe thead th {\n",
              "        text-align: right;\n",
              "    }\n",
              "</style>\n",
              "<table border=\"1\" class=\"dataframe\">\n",
              "  <thead>\n",
              "    <tr style=\"text-align: right;\">\n",
              "      <th></th>\n",
              "      <th>tweet_text</th>\n",
              "      <th>cyberbullying_type</th>\n",
              "    </tr>\n",
              "  </thead>\n",
              "  <tbody>\n",
              "    <tr>\n",
              "      <th>count</th>\n",
              "      <td>47692</td>\n",
              "      <td>47692</td>\n",
              "    </tr>\n",
              "    <tr>\n",
              "      <th>unique</th>\n",
              "      <td>46017</td>\n",
              "      <td>6</td>\n",
              "    </tr>\n",
              "    <tr>\n",
              "      <th>top</th>\n",
              "      <td>RT @sailorhg: the intro for my hardware hackin...</td>\n",
              "      <td>religion</td>\n",
              "    </tr>\n",
              "    <tr>\n",
              "      <th>freq</th>\n",
              "      <td>2</td>\n",
              "      <td>7998</td>\n",
              "    </tr>\n",
              "  </tbody>\n",
              "</table>\n",
              "</div>\n",
              "    <div class=\"colab-df-buttons\">\n",
              "\n",
              "  <div class=\"colab-df-container\">\n",
              "    <button class=\"colab-df-convert\" onclick=\"convertToInteractive('df-bf02701b-5c1d-4029-bceb-dc7ab339e0e2')\"\n",
              "            title=\"Convert this dataframe to an interactive table.\"\n",
              "            style=\"display:none;\">\n",
              "\n",
              "  <svg xmlns=\"http://www.w3.org/2000/svg\" height=\"24px\" viewBox=\"0 -960 960 960\">\n",
              "    <path d=\"M120-120v-720h720v720H120Zm60-500h600v-160H180v160Zm220 220h160v-160H400v160Zm0 220h160v-160H400v160ZM180-400h160v-160H180v160Zm440 0h160v-160H620v160ZM180-180h160v-160H180v160Zm440 0h160v-160H620v160Z\"/>\n",
              "  </svg>\n",
              "    </button>\n",
              "\n",
              "  <style>\n",
              "    .colab-df-container {\n",
              "      display:flex;\n",
              "      gap: 12px;\n",
              "    }\n",
              "\n",
              "    .colab-df-convert {\n",
              "      background-color: #E8F0FE;\n",
              "      border: none;\n",
              "      border-radius: 50%;\n",
              "      cursor: pointer;\n",
              "      display: none;\n",
              "      fill: #1967D2;\n",
              "      height: 32px;\n",
              "      padding: 0 0 0 0;\n",
              "      width: 32px;\n",
              "    }\n",
              "\n",
              "    .colab-df-convert:hover {\n",
              "      background-color: #E2EBFA;\n",
              "      box-shadow: 0px 1px 2px rgba(60, 64, 67, 0.3), 0px 1px 3px 1px rgba(60, 64, 67, 0.15);\n",
              "      fill: #174EA6;\n",
              "    }\n",
              "\n",
              "    .colab-df-buttons div {\n",
              "      margin-bottom: 4px;\n",
              "    }\n",
              "\n",
              "    [theme=dark] .colab-df-convert {\n",
              "      background-color: #3B4455;\n",
              "      fill: #D2E3FC;\n",
              "    }\n",
              "\n",
              "    [theme=dark] .colab-df-convert:hover {\n",
              "      background-color: #434B5C;\n",
              "      box-shadow: 0px 1px 3px 1px rgba(0, 0, 0, 0.15);\n",
              "      filter: drop-shadow(0px 1px 2px rgba(0, 0, 0, 0.3));\n",
              "      fill: #FFFFFF;\n",
              "    }\n",
              "  </style>\n",
              "\n",
              "    <script>\n",
              "      const buttonEl =\n",
              "        document.querySelector('#df-bf02701b-5c1d-4029-bceb-dc7ab339e0e2 button.colab-df-convert');\n",
              "      buttonEl.style.display =\n",
              "        google.colab.kernel.accessAllowed ? 'block' : 'none';\n",
              "\n",
              "      async function convertToInteractive(key) {\n",
              "        const element = document.querySelector('#df-bf02701b-5c1d-4029-bceb-dc7ab339e0e2');\n",
              "        const dataTable =\n",
              "          await google.colab.kernel.invokeFunction('convertToInteractive',\n",
              "                                                    [key], {});\n",
              "        if (!dataTable) return;\n",
              "\n",
              "        const docLinkHtml = 'Like what you see? Visit the ' +\n",
              "          '<a target=\"_blank\" href=https://colab.research.google.com/notebooks/data_table.ipynb>data table notebook</a>'\n",
              "          + ' to learn more about interactive tables.';\n",
              "        element.innerHTML = '';\n",
              "        dataTable['output_type'] = 'display_data';\n",
              "        await google.colab.output.renderOutput(dataTable, element);\n",
              "        const docLink = document.createElement('div');\n",
              "        docLink.innerHTML = docLinkHtml;\n",
              "        element.appendChild(docLink);\n",
              "      }\n",
              "    </script>\n",
              "  </div>\n",
              "\n",
              "\n",
              "<div id=\"df-b25ba529-da6d-4988-a2b4-2817a2679afe\">\n",
              "  <button class=\"colab-df-quickchart\" onclick=\"quickchart('df-b25ba529-da6d-4988-a2b4-2817a2679afe')\"\n",
              "            title=\"Suggest charts\"\n",
              "            style=\"display:none;\">\n",
              "\n",
              "<svg xmlns=\"http://www.w3.org/2000/svg\" height=\"24px\"viewBox=\"0 0 24 24\"\n",
              "     width=\"24px\">\n",
              "    <g>\n",
              "        <path d=\"M19 3H5c-1.1 0-2 .9-2 2v14c0 1.1.9 2 2 2h14c1.1 0 2-.9 2-2V5c0-1.1-.9-2-2-2zM9 17H7v-7h2v7zm4 0h-2V7h2v10zm4 0h-2v-4h2v4z\"/>\n",
              "    </g>\n",
              "</svg>\n",
              "  </button>\n",
              "\n",
              "<style>\n",
              "  .colab-df-quickchart {\n",
              "      --bg-color: #E8F0FE;\n",
              "      --fill-color: #1967D2;\n",
              "      --hover-bg-color: #E2EBFA;\n",
              "      --hover-fill-color: #174EA6;\n",
              "      --disabled-fill-color: #AAA;\n",
              "      --disabled-bg-color: #DDD;\n",
              "  }\n",
              "\n",
              "  [theme=dark] .colab-df-quickchart {\n",
              "      --bg-color: #3B4455;\n",
              "      --fill-color: #D2E3FC;\n",
              "      --hover-bg-color: #434B5C;\n",
              "      --hover-fill-color: #FFFFFF;\n",
              "      --disabled-bg-color: #3B4455;\n",
              "      --disabled-fill-color: #666;\n",
              "  }\n",
              "\n",
              "  .colab-df-quickchart {\n",
              "    background-color: var(--bg-color);\n",
              "    border: none;\n",
              "    border-radius: 50%;\n",
              "    cursor: pointer;\n",
              "    display: none;\n",
              "    fill: var(--fill-color);\n",
              "    height: 32px;\n",
              "    padding: 0;\n",
              "    width: 32px;\n",
              "  }\n",
              "\n",
              "  .colab-df-quickchart:hover {\n",
              "    background-color: var(--hover-bg-color);\n",
              "    box-shadow: 0 1px 2px rgba(60, 64, 67, 0.3), 0 1px 3px 1px rgba(60, 64, 67, 0.15);\n",
              "    fill: var(--button-hover-fill-color);\n",
              "  }\n",
              "\n",
              "  .colab-df-quickchart-complete:disabled,\n",
              "  .colab-df-quickchart-complete:disabled:hover {\n",
              "    background-color: var(--disabled-bg-color);\n",
              "    fill: var(--disabled-fill-color);\n",
              "    box-shadow: none;\n",
              "  }\n",
              "\n",
              "  .colab-df-spinner {\n",
              "    border: 2px solid var(--fill-color);\n",
              "    border-color: transparent;\n",
              "    border-bottom-color: var(--fill-color);\n",
              "    animation:\n",
              "      spin 1s steps(1) infinite;\n",
              "  }\n",
              "\n",
              "  @keyframes spin {\n",
              "    0% {\n",
              "      border-color: transparent;\n",
              "      border-bottom-color: var(--fill-color);\n",
              "      border-left-color: var(--fill-color);\n",
              "    }\n",
              "    20% {\n",
              "      border-color: transparent;\n",
              "      border-left-color: var(--fill-color);\n",
              "      border-top-color: var(--fill-color);\n",
              "    }\n",
              "    30% {\n",
              "      border-color: transparent;\n",
              "      border-left-color: var(--fill-color);\n",
              "      border-top-color: var(--fill-color);\n",
              "      border-right-color: var(--fill-color);\n",
              "    }\n",
              "    40% {\n",
              "      border-color: transparent;\n",
              "      border-right-color: var(--fill-color);\n",
              "      border-top-color: var(--fill-color);\n",
              "    }\n",
              "    60% {\n",
              "      border-color: transparent;\n",
              "      border-right-color: var(--fill-color);\n",
              "    }\n",
              "    80% {\n",
              "      border-color: transparent;\n",
              "      border-right-color: var(--fill-color);\n",
              "      border-bottom-color: var(--fill-color);\n",
              "    }\n",
              "    90% {\n",
              "      border-color: transparent;\n",
              "      border-bottom-color: var(--fill-color);\n",
              "    }\n",
              "  }\n",
              "</style>\n",
              "\n",
              "  <script>\n",
              "    async function quickchart(key) {\n",
              "      const quickchartButtonEl =\n",
              "        document.querySelector('#' + key + ' button');\n",
              "      quickchartButtonEl.disabled = true;  // To prevent multiple clicks.\n",
              "      quickchartButtonEl.classList.add('colab-df-spinner');\n",
              "      try {\n",
              "        const charts = await google.colab.kernel.invokeFunction(\n",
              "            'suggestCharts', [key], {});\n",
              "      } catch (error) {\n",
              "        console.error('Error during call to suggestCharts:', error);\n",
              "      }\n",
              "      quickchartButtonEl.classList.remove('colab-df-spinner');\n",
              "      quickchartButtonEl.classList.add('colab-df-quickchart-complete');\n",
              "    }\n",
              "    (() => {\n",
              "      let quickchartButtonEl =\n",
              "        document.querySelector('#df-b25ba529-da6d-4988-a2b4-2817a2679afe button');\n",
              "      quickchartButtonEl.style.display =\n",
              "        google.colab.kernel.accessAllowed ? 'block' : 'none';\n",
              "    })();\n",
              "  </script>\n",
              "</div>\n",
              "\n",
              "    </div>\n",
              "  </div>\n"
            ],
            "text/plain": [
              "                                               tweet_text cyberbullying_type\n",
              "count                                               47692              47692\n",
              "unique                                              46017                  6\n",
              "top     RT @sailorhg: the intro for my hardware hackin...           religion\n",
              "freq                                                    2               7998"
            ]
          },
          "execution_count": 8,
          "metadata": {},
          "output_type": "execute_result"
        }
      ],
      "source": [
        "df.describe()"
      ]
    },
    {
      "cell_type": "markdown",
      "metadata": {
        "id": "N3s6C0cTxQyf"
      },
      "source": [
        "**Data Pre-processing**\n",
        "\n",
        " Are there any null or duplicate values?"
      ]
    },
    {
      "cell_type": "code",
      "execution_count": null,
      "metadata": {
        "colab": {
          "base_uri": "https://localhost:8080/",
          "height": 145
        },
        "id": "uTql9Ry6owZC",
        "outputId": "d28846f2-f52c-4768-d40c-db905c340c3c"
      },
      "outputs": [
        {
          "data": {
            "text/html": [
              "<div>\n",
              "<style scoped>\n",
              "    .dataframe tbody tr th:only-of-type {\n",
              "        vertical-align: middle;\n",
              "    }\n",
              "\n",
              "    .dataframe tbody tr th {\n",
              "        vertical-align: top;\n",
              "    }\n",
              "\n",
              "    .dataframe thead th {\n",
              "        text-align: right;\n",
              "    }\n",
              "</style>\n",
              "<table border=\"1\" class=\"dataframe\">\n",
              "  <thead>\n",
              "    <tr style=\"text-align: right;\">\n",
              "      <th></th>\n",
              "      <th>0</th>\n",
              "    </tr>\n",
              "  </thead>\n",
              "  <tbody>\n",
              "    <tr>\n",
              "      <th>tweet_text</th>\n",
              "      <td>0</td>\n",
              "    </tr>\n",
              "    <tr>\n",
              "      <th>cyberbullying_type</th>\n",
              "      <td>0</td>\n",
              "    </tr>\n",
              "  </tbody>\n",
              "</table>\n",
              "</div><br><label><b>dtype:</b> int64</label>"
            ],
            "text/plain": [
              "tweet_text            0\n",
              "cyberbullying_type    0\n",
              "dtype: int64"
            ]
          },
          "execution_count": 9,
          "metadata": {},
          "output_type": "execute_result"
        }
      ],
      "source": [
        "df.isnull().sum()"
      ]
    },
    {
      "cell_type": "code",
      "execution_count": null,
      "metadata": {
        "colab": {
          "base_uri": "https://localhost:8080/"
        },
        "id": "vjvfXHY8o1bh",
        "outputId": "b105a8c5-3f99-4aef-d64a-82c79341b15e"
      },
      "outputs": [
        {
          "data": {
            "text/plain": [
              "1675"
            ]
          },
          "execution_count": 10,
          "metadata": {},
          "output_type": "execute_result"
        }
      ],
      "source": [
        "df['tweet_text'].duplicated().sum()"
      ]
    },
    {
      "cell_type": "markdown",
      "metadata": {
        "id": "kosWy-XAxY5I"
      },
      "source": [
        "Let's drop these duplicated."
      ]
    },
    {
      "cell_type": "code",
      "execution_count": null,
      "metadata": {
        "colab": {
          "base_uri": "https://localhost:8080/"
        },
        "id": "4Qp6RNhDo7c6",
        "outputId": "ab05a6cf-8846-4814-e7e4-54420c572255"
      },
      "outputs": [
        {
          "data": {
            "text/plain": [
              "0"
            ]
          },
          "execution_count": 11,
          "metadata": {},
          "output_type": "execute_result"
        }
      ],
      "source": [
        "df.drop_duplicates('tweet_text', inplace=True, ignore_index=True)\n",
        "df['tweet_text'].duplicated().sum()"
      ]
    },
    {
      "cell_type": "markdown",
      "metadata": {
        "id": "wiLWC28KxeLb"
      },
      "source": [
        "Are the classes balanced?"
      ]
    },
    {
      "cell_type": "code",
      "execution_count": null,
      "metadata": {
        "colab": {
          "base_uri": "https://localhost:8080/",
          "height": 300
        },
        "id": "JoT8BrBfpAwK",
        "outputId": "7afa9148-d5a6-40d7-fb96-94b810985691"
      },
      "outputs": [
        {
          "data": {
            "text/html": [
              "<div>\n",
              "<style scoped>\n",
              "    .dataframe tbody tr th:only-of-type {\n",
              "        vertical-align: middle;\n",
              "    }\n",
              "\n",
              "    .dataframe tbody tr th {\n",
              "        vertical-align: top;\n",
              "    }\n",
              "\n",
              "    .dataframe thead th {\n",
              "        text-align: right;\n",
              "    }\n",
              "</style>\n",
              "<table border=\"1\" class=\"dataframe\">\n",
              "  <thead>\n",
              "    <tr style=\"text-align: right;\">\n",
              "      <th></th>\n",
              "      <th>count</th>\n",
              "    </tr>\n",
              "    <tr>\n",
              "      <th>cyberbullying_type</th>\n",
              "      <th></th>\n",
              "    </tr>\n",
              "  </thead>\n",
              "  <tbody>\n",
              "    <tr>\n",
              "      <th>religion</th>\n",
              "      <td>7995</td>\n",
              "    </tr>\n",
              "    <tr>\n",
              "      <th>age</th>\n",
              "      <td>7992</td>\n",
              "    </tr>\n",
              "    <tr>\n",
              "      <th>ethnicity</th>\n",
              "      <td>7952</td>\n",
              "    </tr>\n",
              "    <tr>\n",
              "      <th>not_cyberbullying</th>\n",
              "      <td>7937</td>\n",
              "    </tr>\n",
              "    <tr>\n",
              "      <th>gender</th>\n",
              "      <td>7898</td>\n",
              "    </tr>\n",
              "    <tr>\n",
              "      <th>other_cyberbullying</th>\n",
              "      <td>6243</td>\n",
              "    </tr>\n",
              "  </tbody>\n",
              "</table>\n",
              "</div><br><label><b>dtype:</b> int64</label>"
            ],
            "text/plain": [
              "cyberbullying_type\n",
              "religion               7995\n",
              "age                    7992\n",
              "ethnicity              7952\n",
              "not_cyberbullying      7937\n",
              "gender                 7898\n",
              "other_cyberbullying    6243\n",
              "Name: count, dtype: int64"
            ]
          },
          "execution_count": 12,
          "metadata": {},
          "output_type": "execute_result"
        }
      ],
      "source": [
        "df['cyberbullying_type'].value_counts()"
      ]
    },
    {
      "cell_type": "markdown",
      "metadata": {
        "id": "EjxlPzX7xlOX"
      },
      "source": [
        "Looks pretty balanced.\n",
        "\n",
        "Since the other_cyberbullying class is too generic, contains many categories in itself and brings down the accuracies of the upcoming prediction models, I have decided to remove it and work with the remaining classes."
      ]
    },
    {
      "cell_type": "code",
      "execution_count": null,
      "metadata": {
        "colab": {
          "base_uri": "https://localhost:8080/"
        },
        "id": "SPwwgQ3XpFbA",
        "outputId": "03e87981-7e7e-44af-a53a-795287d90100"
      },
      "outputs": [
        {
          "data": {
            "text/plain": [
              "array(['not_cyberbullying', 'gender', 'religion', 'age', 'ethnicity'],\n",
              "      dtype=object)"
            ]
          },
          "execution_count": 13,
          "metadata": {},
          "output_type": "execute_result"
        }
      ],
      "source": [
        "df = df[df[\"cyberbullying_type\"] != \"other_cyberbullying\"]\n",
        "df['cyberbullying_type'].unique()"
      ]
    },
    {
      "cell_type": "markdown",
      "metadata": {
        "id": "E_c9dhD3xrEd"
      },
      "source": [
        "Label Encoding the Classes\n",
        "\n",
        "\n"
      ]
    },
    {
      "cell_type": "code",
      "execution_count": null,
      "metadata": {
        "colab": {
          "base_uri": "https://localhost:8080/",
          "height": 204
        },
        "id": "9ARcSo1xpMBE",
        "outputId": "10c3fe82-5ee3-4569-b811-6492cbaf67e7"
      },
      "outputs": [
        {
          "data": {
            "application/vnd.google.colaboratory.intrinsic+json": {
              "summary": "{\n  \"name\": \"df\",\n  \"rows\": 5,\n  \"fields\": [\n    {\n      \"column\": \"tweet_text\",\n      \"properties\": {\n        \"dtype\": \"string\",\n        \"num_unique_values\": 5,\n        \"samples\": [\n          \"I h8 you if : 1) you make rape jokes 2) you're a meninist 3) you use gay/faggot as an insult and many more but who can be bothered :-))))\",\n          \"it was about muslims you abs idiot CAN YOU READ????\",\n          \"(2/2) i probably wont be able to go to high school this year because of this, and idk how to solve this problem. my family bully me for it and calls me a shame. however, im fine since im used to being insulted.\"\n        ],\n        \"semantic_type\": \"\",\n        \"description\": \"\"\n      }\n    },\n    {\n      \"column\": \"cyberbullying_type\",\n      \"properties\": {\n        \"dtype\": \"number\",\n        \"std\": 1,\n        \"min\": 1,\n        \"max\": 3,\n        \"num_unique_values\": 3,\n        \"samples\": [\n          1,\n          3,\n          2\n        ],\n        \"semantic_type\": \"\",\n        \"description\": \"\"\n      }\n    }\n  ]\n}",
              "type": "dataframe"
            },
            "text/html": [
              "\n",
              "  <div id=\"df-b8aee3e1-9a00-4854-9b40-e1e9aafba833\" class=\"colab-df-container\">\n",
              "    <div>\n",
              "<style scoped>\n",
              "    .dataframe tbody tr th:only-of-type {\n",
              "        vertical-align: middle;\n",
              "    }\n",
              "\n",
              "    .dataframe tbody tr th {\n",
              "        vertical-align: top;\n",
              "    }\n",
              "\n",
              "    .dataframe thead th {\n",
              "        text-align: right;\n",
              "    }\n",
              "</style>\n",
              "<table border=\"1\" class=\"dataframe\">\n",
              "  <thead>\n",
              "    <tr style=\"text-align: right;\">\n",
              "      <th></th>\n",
              "      <th>tweet_text</th>\n",
              "      <th>cyberbullying_type</th>\n",
              "    </tr>\n",
              "  </thead>\n",
              "  <tbody>\n",
              "    <tr>\n",
              "      <th>11751</th>\n",
              "      <td>And yet somehow, they thrive without your igno...</td>\n",
              "      <td>1</td>\n",
              "    </tr>\n",
              "    <tr>\n",
              "      <th>12950</th>\n",
              "      <td>I h8 you if : 1) you make rape jokes 2) you're...</td>\n",
              "      <td>1</td>\n",
              "    </tr>\n",
              "    <tr>\n",
              "      <th>33446</th>\n",
              "      <td>(2/2) i probably wont be able to go to high sc...</td>\n",
              "      <td>3</td>\n",
              "    </tr>\n",
              "    <tr>\n",
              "      <th>34944</th>\n",
              "      <td>i was buillied by a girl for a whole ass year ...</td>\n",
              "      <td>3</td>\n",
              "    </tr>\n",
              "    <tr>\n",
              "      <th>18099</th>\n",
              "      <td>it was about muslims you abs idiot CAN YOU REA...</td>\n",
              "      <td>2</td>\n",
              "    </tr>\n",
              "  </tbody>\n",
              "</table>\n",
              "</div>\n",
              "    <div class=\"colab-df-buttons\">\n",
              "\n",
              "  <div class=\"colab-df-container\">\n",
              "    <button class=\"colab-df-convert\" onclick=\"convertToInteractive('df-b8aee3e1-9a00-4854-9b40-e1e9aafba833')\"\n",
              "            title=\"Convert this dataframe to an interactive table.\"\n",
              "            style=\"display:none;\">\n",
              "\n",
              "  <svg xmlns=\"http://www.w3.org/2000/svg\" height=\"24px\" viewBox=\"0 -960 960 960\">\n",
              "    <path d=\"M120-120v-720h720v720H120Zm60-500h600v-160H180v160Zm220 220h160v-160H400v160Zm0 220h160v-160H400v160ZM180-400h160v-160H180v160Zm440 0h160v-160H620v160ZM180-180h160v-160H180v160Zm440 0h160v-160H620v160Z\"/>\n",
              "  </svg>\n",
              "    </button>\n",
              "\n",
              "  <style>\n",
              "    .colab-df-container {\n",
              "      display:flex;\n",
              "      gap: 12px;\n",
              "    }\n",
              "\n",
              "    .colab-df-convert {\n",
              "      background-color: #E8F0FE;\n",
              "      border: none;\n",
              "      border-radius: 50%;\n",
              "      cursor: pointer;\n",
              "      display: none;\n",
              "      fill: #1967D2;\n",
              "      height: 32px;\n",
              "      padding: 0 0 0 0;\n",
              "      width: 32px;\n",
              "    }\n",
              "\n",
              "    .colab-df-convert:hover {\n",
              "      background-color: #E2EBFA;\n",
              "      box-shadow: 0px 1px 2px rgba(60, 64, 67, 0.3), 0px 1px 3px 1px rgba(60, 64, 67, 0.15);\n",
              "      fill: #174EA6;\n",
              "    }\n",
              "\n",
              "    .colab-df-buttons div {\n",
              "      margin-bottom: 4px;\n",
              "    }\n",
              "\n",
              "    [theme=dark] .colab-df-convert {\n",
              "      background-color: #3B4455;\n",
              "      fill: #D2E3FC;\n",
              "    }\n",
              "\n",
              "    [theme=dark] .colab-df-convert:hover {\n",
              "      background-color: #434B5C;\n",
              "      box-shadow: 0px 1px 3px 1px rgba(0, 0, 0, 0.15);\n",
              "      filter: drop-shadow(0px 1px 2px rgba(0, 0, 0, 0.3));\n",
              "      fill: #FFFFFF;\n",
              "    }\n",
              "  </style>\n",
              "\n",
              "    <script>\n",
              "      const buttonEl =\n",
              "        document.querySelector('#df-b8aee3e1-9a00-4854-9b40-e1e9aafba833 button.colab-df-convert');\n",
              "      buttonEl.style.display =\n",
              "        google.colab.kernel.accessAllowed ? 'block' : 'none';\n",
              "\n",
              "      async function convertToInteractive(key) {\n",
              "        const element = document.querySelector('#df-b8aee3e1-9a00-4854-9b40-e1e9aafba833');\n",
              "        const dataTable =\n",
              "          await google.colab.kernel.invokeFunction('convertToInteractive',\n",
              "                                                    [key], {});\n",
              "        if (!dataTable) return;\n",
              "\n",
              "        const docLinkHtml = 'Like what you see? Visit the ' +\n",
              "          '<a target=\"_blank\" href=https://colab.research.google.com/notebooks/data_table.ipynb>data table notebook</a>'\n",
              "          + ' to learn more about interactive tables.';\n",
              "        element.innerHTML = '';\n",
              "        dataTable['output_type'] = 'display_data';\n",
              "        await google.colab.output.renderOutput(dataTable, element);\n",
              "        const docLink = document.createElement('div');\n",
              "        docLink.innerHTML = docLinkHtml;\n",
              "        element.appendChild(docLink);\n",
              "      }\n",
              "    </script>\n",
              "  </div>\n",
              "\n",
              "\n",
              "<div id=\"df-b564d171-eb27-40f4-ba81-be6fd8164b98\">\n",
              "  <button class=\"colab-df-quickchart\" onclick=\"quickchart('df-b564d171-eb27-40f4-ba81-be6fd8164b98')\"\n",
              "            title=\"Suggest charts\"\n",
              "            style=\"display:none;\">\n",
              "\n",
              "<svg xmlns=\"http://www.w3.org/2000/svg\" height=\"24px\"viewBox=\"0 0 24 24\"\n",
              "     width=\"24px\">\n",
              "    <g>\n",
              "        <path d=\"M19 3H5c-1.1 0-2 .9-2 2v14c0 1.1.9 2 2 2h14c1.1 0 2-.9 2-2V5c0-1.1-.9-2-2-2zM9 17H7v-7h2v7zm4 0h-2V7h2v10zm4 0h-2v-4h2v4z\"/>\n",
              "    </g>\n",
              "</svg>\n",
              "  </button>\n",
              "\n",
              "<style>\n",
              "  .colab-df-quickchart {\n",
              "      --bg-color: #E8F0FE;\n",
              "      --fill-color: #1967D2;\n",
              "      --hover-bg-color: #E2EBFA;\n",
              "      --hover-fill-color: #174EA6;\n",
              "      --disabled-fill-color: #AAA;\n",
              "      --disabled-bg-color: #DDD;\n",
              "  }\n",
              "\n",
              "  [theme=dark] .colab-df-quickchart {\n",
              "      --bg-color: #3B4455;\n",
              "      --fill-color: #D2E3FC;\n",
              "      --hover-bg-color: #434B5C;\n",
              "      --hover-fill-color: #FFFFFF;\n",
              "      --disabled-bg-color: #3B4455;\n",
              "      --disabled-fill-color: #666;\n",
              "  }\n",
              "\n",
              "  .colab-df-quickchart {\n",
              "    background-color: var(--bg-color);\n",
              "    border: none;\n",
              "    border-radius: 50%;\n",
              "    cursor: pointer;\n",
              "    display: none;\n",
              "    fill: var(--fill-color);\n",
              "    height: 32px;\n",
              "    padding: 0;\n",
              "    width: 32px;\n",
              "  }\n",
              "\n",
              "  .colab-df-quickchart:hover {\n",
              "    background-color: var(--hover-bg-color);\n",
              "    box-shadow: 0 1px 2px rgba(60, 64, 67, 0.3), 0 1px 3px 1px rgba(60, 64, 67, 0.15);\n",
              "    fill: var(--button-hover-fill-color);\n",
              "  }\n",
              "\n",
              "  .colab-df-quickchart-complete:disabled,\n",
              "  .colab-df-quickchart-complete:disabled:hover {\n",
              "    background-color: var(--disabled-bg-color);\n",
              "    fill: var(--disabled-fill-color);\n",
              "    box-shadow: none;\n",
              "  }\n",
              "\n",
              "  .colab-df-spinner {\n",
              "    border: 2px solid var(--fill-color);\n",
              "    border-color: transparent;\n",
              "    border-bottom-color: var(--fill-color);\n",
              "    animation:\n",
              "      spin 1s steps(1) infinite;\n",
              "  }\n",
              "\n",
              "  @keyframes spin {\n",
              "    0% {\n",
              "      border-color: transparent;\n",
              "      border-bottom-color: var(--fill-color);\n",
              "      border-left-color: var(--fill-color);\n",
              "    }\n",
              "    20% {\n",
              "      border-color: transparent;\n",
              "      border-left-color: var(--fill-color);\n",
              "      border-top-color: var(--fill-color);\n",
              "    }\n",
              "    30% {\n",
              "      border-color: transparent;\n",
              "      border-left-color: var(--fill-color);\n",
              "      border-top-color: var(--fill-color);\n",
              "      border-right-color: var(--fill-color);\n",
              "    }\n",
              "    40% {\n",
              "      border-color: transparent;\n",
              "      border-right-color: var(--fill-color);\n",
              "      border-top-color: var(--fill-color);\n",
              "    }\n",
              "    60% {\n",
              "      border-color: transparent;\n",
              "      border-right-color: var(--fill-color);\n",
              "    }\n",
              "    80% {\n",
              "      border-color: transparent;\n",
              "      border-right-color: var(--fill-color);\n",
              "      border-bottom-color: var(--fill-color);\n",
              "    }\n",
              "    90% {\n",
              "      border-color: transparent;\n",
              "      border-bottom-color: var(--fill-color);\n",
              "    }\n",
              "  }\n",
              "</style>\n",
              "\n",
              "  <script>\n",
              "    async function quickchart(key) {\n",
              "      const quickchartButtonEl =\n",
              "        document.querySelector('#' + key + ' button');\n",
              "      quickchartButtonEl.disabled = true;  // To prevent multiple clicks.\n",
              "      quickchartButtonEl.classList.add('colab-df-spinner');\n",
              "      try {\n",
              "        const charts = await google.colab.kernel.invokeFunction(\n",
              "            'suggestCharts', [key], {});\n",
              "      } catch (error) {\n",
              "        console.error('Error during call to suggestCharts:', error);\n",
              "      }\n",
              "      quickchartButtonEl.classList.remove('colab-df-spinner');\n",
              "      quickchartButtonEl.classList.add('colab-df-quickchart-complete');\n",
              "    }\n",
              "    (() => {\n",
              "      let quickchartButtonEl =\n",
              "        document.querySelector('#df-b564d171-eb27-40f4-ba81-be6fd8164b98 button');\n",
              "      quickchartButtonEl.style.display =\n",
              "        google.colab.kernel.accessAllowed ? 'block' : 'none';\n",
              "    })();\n",
              "  </script>\n",
              "</div>\n",
              "\n",
              "    </div>\n",
              "  </div>\n"
            ],
            "text/plain": [
              "                                              tweet_text  cyberbullying_type\n",
              "11751  And yet somehow, they thrive without your igno...                   1\n",
              "12950  I h8 you if : 1) you make rape jokes 2) you're...                   1\n",
              "33446  (2/2) i probably wont be able to go to high sc...                   3\n",
              "34944  i was buillied by a girl for a whole ass year ...                   3\n",
              "18099  it was about muslims you abs idiot CAN YOU REA...                   2"
            ]
          },
          "execution_count": 14,
          "metadata": {},
          "output_type": "execute_result"
        }
      ],
      "source": [
        "cyberbullying_type = ['not_cyberbullying', 'gender', 'religion', 'age', 'ethnicity']\n",
        "encoding_dict = {'not_cyberbullying':0, 'gender':1, 'religion':2, 'age':3, 'ethnicity':4}\n",
        "df['cyberbullying_type'] = df['cyberbullying_type'].map(encoding_dict)\n",
        "df.sample(5)"
      ]
    },
    {
      "cell_type": "markdown",
      "metadata": {
        "id": "8HgUktoPx1N1"
      },
      "source": [
        "NLP Processing\n",
        "\n",
        "Time to clean the tweets and process them to a new column."
      ]
    },
    {
      "cell_type": "code",
      "execution_count": null,
      "metadata": {
        "colab": {
          "base_uri": "https://localhost:8080/"
        },
        "id": "XASfKqiZpREY",
        "outputId": "d4bfeb1d-9de6-440f-b8e3-a81d056edeb6"
      },
      "outputs": [
        {
          "name": "stderr",
          "output_type": "stream",
          "text": [
            "[nltk_data] Downloading package stopwords to /root/nltk_data...\n",
            "[nltk_data]   Unzipping corpora/stopwords.zip.\n",
            "[nltk_data] Downloading package punkt to /root/nltk_data...\n",
            "[nltk_data]   Unzipping tokenizers/punkt.zip.\n",
            "[nltk_data] Downloading package wordnet to /root/nltk_data...\n"
          ]
        },
        {
          "data": {
            "text/plain": [
              "True"
            ]
          },
          "execution_count": 15,
          "metadata": {},
          "output_type": "execute_result"
        }
      ],
      "source": [
        "# Downloading dependencies\n",
        "nltk.download('stopwords')\n",
        "nltk.download('punkt')\n",
        "nltk.download('wordnet')"
      ]
    },
    {
      "cell_type": "code",
      "execution_count": null,
      "metadata": {
        "id": "4TPaZqfDpXMF"
      },
      "outputs": [],
      "source": [
        "stopwords_list = stopwords.words('english')\n",
        "additional_stopwords = ['rt', 'mkr', 'didn', 'bc', 'n', 'm', 'im', 'll', 'y', 've', 'u', 'ur', 'don', 't', 's']   # Specific to twitter lingo\n",
        "stopwords_list.extend(additional_stopwords)\n",
        "lemmatizer = WordNetLemmatizer()    # Using Lemmatizer instead of Stemmer"
      ]
    },
    {
      "cell_type": "markdown",
      "metadata": {
        "id": "0eVX6Qtex7pS"
      },
      "source": [
        "Below are the custom defined functions to deep clean the unprocessed tweets.\n",
        "Their identifier names describe their working."
      ]
    },
    {
      "cell_type": "code",
      "execution_count": null,
      "metadata": {
        "id": "EuxGfqdjpgci"
      },
      "outputs": [],
      "source": [
        "def remove_usernames(tweet):\n",
        "    words = tweet.strip().split()\n",
        "    words = [word for word in words if word[0]!='@']\n",
        "    return ' '.join(words)\n",
        "\n",
        "def remove_hashtags(tweet):\n",
        "    words = tweet.strip().split()\n",
        "    words = [word for word in words if word[0]!='#']\n",
        "    return ' '.join(words)\n",
        "\n",
        "def remove_links(tweet):\n",
        "    words = tweet.strip().split()\n",
        "    words = [word for word in words if word[:4]!='http']\n",
        "    return ' '.join(words)\n",
        "\n",
        "def remove_punctuation(tweet):\n",
        "    for mark in punctuation:\n",
        "        tweet = tweet.replace(mark, '')\n",
        "    return tweet\n",
        "\n",
        "def convert_lowercase(tweet):\n",
        "    return tweet.lower()\n",
        "\n",
        "def tokenization(tweet):\n",
        "    return word_tokenize(tweet)\n",
        "\n",
        "def remove_stopwords(tok_tweet):\n",
        "    res = []\n",
        "    for word in tok_tweet:\n",
        "        if word not in stopwords_list:\n",
        "            res.append(word)\n",
        "    return res\n",
        "\n",
        "def lemmatize_words(tok_tweet):\n",
        "    res = []\n",
        "    for word in tok_tweet:\n",
        "        res.append(lemmatizer.lemmatize(word))\n",
        "    return res"
      ]
    },
    {
      "cell_type": "code",
      "execution_count": null,
      "metadata": {
        "id": "ceoW57mjpxAw"
      },
      "outputs": [],
      "source": [
        "# Defining a custom tweet cleaning function\n",
        "def pre_processing_custom(tweet):\n",
        "    tweet = remove_usernames(tweet)\n",
        "    tweet = remove_hashtags(tweet)\n",
        "    tweet = remove_links(tweet)\n",
        "    tweet = remove_punctuation(tweet)\n",
        "    tweet = convert_lowercase(tweet)\n",
        "    tok_tweet = tokenization(tweet)\n",
        "    tok_tweet = remove_stopwords(tok_tweet)\n",
        "    tok_tweet = lemmatize_words(tok_tweet)\n",
        "    clean_tweet = ' '.join(tok_tweet)\n",
        "\n",
        "    return clean_tweet"
      ]
    },
    {
      "cell_type": "markdown",
      "metadata": {
        "id": "wYrYqQ8ryJMD"
      },
      "source": [
        "Time to apply this processing function to our dataset."
      ]
    },
    {
      "cell_type": "code",
      "execution_count": null,
      "metadata": {
        "colab": {
          "base_uri": "https://localhost:8080/",
          "height": 255
        },
        "id": "C85EumCzp1VK",
        "outputId": "00ffe77a-1b56-44fc-b601-cf3a193d99df"
      },
      "outputs": [
        {
          "data": {
            "application/vnd.google.colaboratory.intrinsic+json": {
              "summary": "{\n  \"name\": \"df\",\n  \"rows\": 5,\n  \"fields\": [\n    {\n      \"column\": \"tweet_text\",\n      \"properties\": {\n        \"dtype\": \"string\",\n        \"num_unique_values\": 5,\n        \"samples\": [\n          \"#confessionnight i'm friends with no one I use to be with back on middle school. #idgaf\",\n          \"HOW THE FUCK IS THIS BITCH GUNNA TELL ME TO GO OUT IN THE HALLWAY WHEN THAT DUMB ASS NIGGER STARTED SHIT\",\n          \"I remember one time she talked about getting permission from her therapist to talk on twitter about how she hated taylor swift because she made sady think about girls who bullied her in high school\"\n        ],\n        \"semantic_type\": \"\",\n        \"description\": \"\"\n      }\n    },\n    {\n      \"column\": \"cyberbullying_type\",\n      \"properties\": {\n        \"dtype\": \"number\",\n        \"std\": 1,\n        \"min\": 0,\n        \"max\": 4,\n        \"num_unique_values\": 3,\n        \"samples\": [\n          4,\n          0,\n          3\n        ],\n        \"semantic_type\": \"\",\n        \"description\": \"\"\n      }\n    },\n    {\n      \"column\": \"clean_tweets\",\n      \"properties\": {\n        \"dtype\": \"string\",\n        \"num_unique_values\": 5,\n        \"samples\": [\n          \"friend one use back middle school\",\n          \"fuck bitch gunna tell go hallway dumb as nigger started shit\",\n          \"remember one time talked getting permission therapist talk twitter hated taylor swift made sady think girl bullied high school\"\n        ],\n        \"semantic_type\": \"\",\n        \"description\": \"\"\n      }\n    }\n  ]\n}",
              "type": "dataframe"
            },
            "text/html": [
              "\n",
              "  <div id=\"df-c2dd6d35-8e52-471c-933a-f7b79df2f43d\" class=\"colab-df-container\">\n",
              "    <div>\n",
              "<style scoped>\n",
              "    .dataframe tbody tr th:only-of-type {\n",
              "        vertical-align: middle;\n",
              "    }\n",
              "\n",
              "    .dataframe tbody tr th {\n",
              "        vertical-align: top;\n",
              "    }\n",
              "\n",
              "    .dataframe thead th {\n",
              "        text-align: right;\n",
              "    }\n",
              "</style>\n",
              "<table border=\"1\" class=\"dataframe\">\n",
              "  <thead>\n",
              "    <tr style=\"text-align: right;\">\n",
              "      <th></th>\n",
              "      <th>tweet_text</th>\n",
              "      <th>cyberbullying_type</th>\n",
              "      <th>clean_tweets</th>\n",
              "    </tr>\n",
              "  </thead>\n",
              "  <tbody>\n",
              "    <tr>\n",
              "      <th>41332</th>\n",
              "      <td>You twitter niggers are dumb as fuck.</td>\n",
              "      <td>4</td>\n",
              "      <td>twitter nigger dumb fuck</td>\n",
              "    </tr>\n",
              "    <tr>\n",
              "      <th>2430</th>\n",
              "      <td>#confessionnight i'm friends with no one I use...</td>\n",
              "      <td>0</td>\n",
              "      <td>friend one use back middle school</td>\n",
              "    </tr>\n",
              "    <tr>\n",
              "      <th>32589</th>\n",
              "      <td>I remember one time she talked about getting p...</td>\n",
              "      <td>3</td>\n",
              "      <td>remember one time talked getting permission th...</td>\n",
              "    </tr>\n",
              "    <tr>\n",
              "      <th>42177</th>\n",
              "      <td>Don't sleep with me? Then don't speak with me....</td>\n",
              "      <td>4</td>\n",
              "      <td>dont sleep dont speak never talk bad bout nigg...</td>\n",
              "    </tr>\n",
              "    <tr>\n",
              "      <th>38727</th>\n",
              "      <td>HOW THE FUCK IS THIS BITCH GUNNA TELL ME TO GO...</td>\n",
              "      <td>4</td>\n",
              "      <td>fuck bitch gunna tell go hallway dumb as nigge...</td>\n",
              "    </tr>\n",
              "  </tbody>\n",
              "</table>\n",
              "</div>\n",
              "    <div class=\"colab-df-buttons\">\n",
              "\n",
              "  <div class=\"colab-df-container\">\n",
              "    <button class=\"colab-df-convert\" onclick=\"convertToInteractive('df-c2dd6d35-8e52-471c-933a-f7b79df2f43d')\"\n",
              "            title=\"Convert this dataframe to an interactive table.\"\n",
              "            style=\"display:none;\">\n",
              "\n",
              "  <svg xmlns=\"http://www.w3.org/2000/svg\" height=\"24px\" viewBox=\"0 -960 960 960\">\n",
              "    <path d=\"M120-120v-720h720v720H120Zm60-500h600v-160H180v160Zm220 220h160v-160H400v160Zm0 220h160v-160H400v160ZM180-400h160v-160H180v160Zm440 0h160v-160H620v160ZM180-180h160v-160H180v160Zm440 0h160v-160H620v160Z\"/>\n",
              "  </svg>\n",
              "    </button>\n",
              "\n",
              "  <style>\n",
              "    .colab-df-container {\n",
              "      display:flex;\n",
              "      gap: 12px;\n",
              "    }\n",
              "\n",
              "    .colab-df-convert {\n",
              "      background-color: #E8F0FE;\n",
              "      border: none;\n",
              "      border-radius: 50%;\n",
              "      cursor: pointer;\n",
              "      display: none;\n",
              "      fill: #1967D2;\n",
              "      height: 32px;\n",
              "      padding: 0 0 0 0;\n",
              "      width: 32px;\n",
              "    }\n",
              "\n",
              "    .colab-df-convert:hover {\n",
              "      background-color: #E2EBFA;\n",
              "      box-shadow: 0px 1px 2px rgba(60, 64, 67, 0.3), 0px 1px 3px 1px rgba(60, 64, 67, 0.15);\n",
              "      fill: #174EA6;\n",
              "    }\n",
              "\n",
              "    .colab-df-buttons div {\n",
              "      margin-bottom: 4px;\n",
              "    }\n",
              "\n",
              "    [theme=dark] .colab-df-convert {\n",
              "      background-color: #3B4455;\n",
              "      fill: #D2E3FC;\n",
              "    }\n",
              "\n",
              "    [theme=dark] .colab-df-convert:hover {\n",
              "      background-color: #434B5C;\n",
              "      box-shadow: 0px 1px 3px 1px rgba(0, 0, 0, 0.15);\n",
              "      filter: drop-shadow(0px 1px 2px rgba(0, 0, 0, 0.3));\n",
              "      fill: #FFFFFF;\n",
              "    }\n",
              "  </style>\n",
              "\n",
              "    <script>\n",
              "      const buttonEl =\n",
              "        document.querySelector('#df-c2dd6d35-8e52-471c-933a-f7b79df2f43d button.colab-df-convert');\n",
              "      buttonEl.style.display =\n",
              "        google.colab.kernel.accessAllowed ? 'block' : 'none';\n",
              "\n",
              "      async function convertToInteractive(key) {\n",
              "        const element = document.querySelector('#df-c2dd6d35-8e52-471c-933a-f7b79df2f43d');\n",
              "        const dataTable =\n",
              "          await google.colab.kernel.invokeFunction('convertToInteractive',\n",
              "                                                    [key], {});\n",
              "        if (!dataTable) return;\n",
              "\n",
              "        const docLinkHtml = 'Like what you see? Visit the ' +\n",
              "          '<a target=\"_blank\" href=https://colab.research.google.com/notebooks/data_table.ipynb>data table notebook</a>'\n",
              "          + ' to learn more about interactive tables.';\n",
              "        element.innerHTML = '';\n",
              "        dataTable['output_type'] = 'display_data';\n",
              "        await google.colab.output.renderOutput(dataTable, element);\n",
              "        const docLink = document.createElement('div');\n",
              "        docLink.innerHTML = docLinkHtml;\n",
              "        element.appendChild(docLink);\n",
              "      }\n",
              "    </script>\n",
              "  </div>\n",
              "\n",
              "\n",
              "<div id=\"df-afe0ec4d-4ef0-4870-a2d4-0e7060c7efba\">\n",
              "  <button class=\"colab-df-quickchart\" onclick=\"quickchart('df-afe0ec4d-4ef0-4870-a2d4-0e7060c7efba')\"\n",
              "            title=\"Suggest charts\"\n",
              "            style=\"display:none;\">\n",
              "\n",
              "<svg xmlns=\"http://www.w3.org/2000/svg\" height=\"24px\"viewBox=\"0 0 24 24\"\n",
              "     width=\"24px\">\n",
              "    <g>\n",
              "        <path d=\"M19 3H5c-1.1 0-2 .9-2 2v14c0 1.1.9 2 2 2h14c1.1 0 2-.9 2-2V5c0-1.1-.9-2-2-2zM9 17H7v-7h2v7zm4 0h-2V7h2v10zm4 0h-2v-4h2v4z\"/>\n",
              "    </g>\n",
              "</svg>\n",
              "  </button>\n",
              "\n",
              "<style>\n",
              "  .colab-df-quickchart {\n",
              "      --bg-color: #E8F0FE;\n",
              "      --fill-color: #1967D2;\n",
              "      --hover-bg-color: #E2EBFA;\n",
              "      --hover-fill-color: #174EA6;\n",
              "      --disabled-fill-color: #AAA;\n",
              "      --disabled-bg-color: #DDD;\n",
              "  }\n",
              "\n",
              "  [theme=dark] .colab-df-quickchart {\n",
              "      --bg-color: #3B4455;\n",
              "      --fill-color: #D2E3FC;\n",
              "      --hover-bg-color: #434B5C;\n",
              "      --hover-fill-color: #FFFFFF;\n",
              "      --disabled-bg-color: #3B4455;\n",
              "      --disabled-fill-color: #666;\n",
              "  }\n",
              "\n",
              "  .colab-df-quickchart {\n",
              "    background-color: var(--bg-color);\n",
              "    border: none;\n",
              "    border-radius: 50%;\n",
              "    cursor: pointer;\n",
              "    display: none;\n",
              "    fill: var(--fill-color);\n",
              "    height: 32px;\n",
              "    padding: 0;\n",
              "    width: 32px;\n",
              "  }\n",
              "\n",
              "  .colab-df-quickchart:hover {\n",
              "    background-color: var(--hover-bg-color);\n",
              "    box-shadow: 0 1px 2px rgba(60, 64, 67, 0.3), 0 1px 3px 1px rgba(60, 64, 67, 0.15);\n",
              "    fill: var(--button-hover-fill-color);\n",
              "  }\n",
              "\n",
              "  .colab-df-quickchart-complete:disabled,\n",
              "  .colab-df-quickchart-complete:disabled:hover {\n",
              "    background-color: var(--disabled-bg-color);\n",
              "    fill: var(--disabled-fill-color);\n",
              "    box-shadow: none;\n",
              "  }\n",
              "\n",
              "  .colab-df-spinner {\n",
              "    border: 2px solid var(--fill-color);\n",
              "    border-color: transparent;\n",
              "    border-bottom-color: var(--fill-color);\n",
              "    animation:\n",
              "      spin 1s steps(1) infinite;\n",
              "  }\n",
              "\n",
              "  @keyframes spin {\n",
              "    0% {\n",
              "      border-color: transparent;\n",
              "      border-bottom-color: var(--fill-color);\n",
              "      border-left-color: var(--fill-color);\n",
              "    }\n",
              "    20% {\n",
              "      border-color: transparent;\n",
              "      border-left-color: var(--fill-color);\n",
              "      border-top-color: var(--fill-color);\n",
              "    }\n",
              "    30% {\n",
              "      border-color: transparent;\n",
              "      border-left-color: var(--fill-color);\n",
              "      border-top-color: var(--fill-color);\n",
              "      border-right-color: var(--fill-color);\n",
              "    }\n",
              "    40% {\n",
              "      border-color: transparent;\n",
              "      border-right-color: var(--fill-color);\n",
              "      border-top-color: var(--fill-color);\n",
              "    }\n",
              "    60% {\n",
              "      border-color: transparent;\n",
              "      border-right-color: var(--fill-color);\n",
              "    }\n",
              "    80% {\n",
              "      border-color: transparent;\n",
              "      border-right-color: var(--fill-color);\n",
              "      border-bottom-color: var(--fill-color);\n",
              "    }\n",
              "    90% {\n",
              "      border-color: transparent;\n",
              "      border-bottom-color: var(--fill-color);\n",
              "    }\n",
              "  }\n",
              "</style>\n",
              "\n",
              "  <script>\n",
              "    async function quickchart(key) {\n",
              "      const quickchartButtonEl =\n",
              "        document.querySelector('#' + key + ' button');\n",
              "      quickchartButtonEl.disabled = true;  // To prevent multiple clicks.\n",
              "      quickchartButtonEl.classList.add('colab-df-spinner');\n",
              "      try {\n",
              "        const charts = await google.colab.kernel.invokeFunction(\n",
              "            'suggestCharts', [key], {});\n",
              "      } catch (error) {\n",
              "        console.error('Error during call to suggestCharts:', error);\n",
              "      }\n",
              "      quickchartButtonEl.classList.remove('colab-df-spinner');\n",
              "      quickchartButtonEl.classList.add('colab-df-quickchart-complete');\n",
              "    }\n",
              "    (() => {\n",
              "      let quickchartButtonEl =\n",
              "        document.querySelector('#df-afe0ec4d-4ef0-4870-a2d4-0e7060c7efba button');\n",
              "      quickchartButtonEl.style.display =\n",
              "        google.colab.kernel.accessAllowed ? 'block' : 'none';\n",
              "    })();\n",
              "  </script>\n",
              "</div>\n",
              "\n",
              "    </div>\n",
              "  </div>\n"
            ],
            "text/plain": [
              "                                              tweet_text  cyberbullying_type  \\\n",
              "41332              You twitter niggers are dumb as fuck.                   4   \n",
              "2430   #confessionnight i'm friends with no one I use...                   0   \n",
              "32589  I remember one time she talked about getting p...                   3   \n",
              "42177  Don't sleep with me? Then don't speak with me....                   4   \n",
              "38727  HOW THE FUCK IS THIS BITCH GUNNA TELL ME TO GO...                   4   \n",
              "\n",
              "                                            clean_tweets  \n",
              "41332                           twitter nigger dumb fuck  \n",
              "2430                   friend one use back middle school  \n",
              "32589  remember one time talked getting permission th...  \n",
              "42177  dont sleep dont speak never talk bad bout nigg...  \n",
              "38727  fuck bitch gunna tell go hallway dumb as nigge...  "
            ]
          },
          "execution_count": 19,
          "metadata": {},
          "output_type": "execute_result"
        }
      ],
      "source": [
        "df['clean_tweets'] = df['tweet_text'].map(pre_processing_custom)\n",
        "df.sample(5)"
      ]
    },
    {
      "cell_type": "markdown",
      "metadata": {
        "id": "40tRBO_vyS7-"
      },
      "source": [
        "The clean_tweets column holds the processed tweets.\n",
        "\n",
        "It's nice and does the job, but we can do much better cleaning by using pre-defined functions and RegEx.\n",
        "Therefore, I'm using the tweet-preprocessor library, as shown below."
      ]
    },
    {
      "cell_type": "code",
      "execution_count": null,
      "metadata": {
        "colab": {
          "base_uri": "https://localhost:8080/"
        },
        "id": "9Ilp2N04p5zM",
        "outputId": "89165586-67f2-4064-f7b8-891fb7a333f3"
      },
      "outputs": [
        {
          "name": "stdout",
          "output_type": "stream",
          "text": [
            "Collecting tweet-preprocessor\n",
            "  Downloading tweet_preprocessor-0.6.0-py3-none-any.whl.metadata (5.9 kB)\n",
            "Downloading tweet_preprocessor-0.6.0-py3-none-any.whl (27 kB)\n",
            "Installing collected packages: tweet-preprocessor\n",
            "Successfully installed tweet-preprocessor-0.6.0\n"
          ]
        }
      ],
      "source": [
        "!pip install tweet-preprocessor\n",
        "import preprocessor as p"
      ]
    },
    {
      "cell_type": "code",
      "execution_count": null,
      "metadata": {
        "id": "7gw0ttfQqGCi"
      },
      "outputs": [],
      "source": [
        "def clean_tweets(tweet):\n",
        "    tweet = p.clean(tweet)\n",
        "    return tweet"
      ]
    },
    {
      "cell_type": "markdown",
      "metadata": {
        "id": "fKS4n4I4ycSw"
      },
      "source": [
        "It takes care of all the URLs, Hashtags, Mentions, Reserved Words, Emojis and Smileys."
      ]
    },
    {
      "cell_type": "code",
      "execution_count": null,
      "metadata": {
        "id": "-6LPMVoAqHlq"
      },
      "outputs": [],
      "source": [
        "# Defining the better cleaning function\n",
        "def pre_processing(tweet):\n",
        "    tweet = clean_tweets(tweet)\n",
        "    tweet = remove_punctuation(tweet)\n",
        "    tweet = convert_lowercase(tweet)\n",
        "    tok_tweet = tokenization(tweet)\n",
        "    tok_tweet = remove_stopwords(tok_tweet)\n",
        "    tok_tweet = lemmatize_words(tok_tweet)\n",
        "    clean_tweet = ' '.join(tok_tweet)\n",
        "\n",
        "    return clean_tweet"
      ]
    },
    {
      "cell_type": "code",
      "execution_count": null,
      "metadata": {
        "colab": {
          "base_uri": "https://localhost:8080/",
          "height": 272
        },
        "id": "sfjyZhRfqLPa",
        "outputId": "4eb6df25-8cf1-4fbc-a946-3a53778bda70"
      },
      "outputs": [
        {
          "data": {
            "application/vnd.google.colaboratory.intrinsic+json": {
              "summary": "{\n  \"name\": \"df\",\n  \"rows\": 5,\n  \"fields\": [\n    {\n      \"column\": \"tweet_text\",\n      \"properties\": {\n        \"dtype\": \"string\",\n        \"num_unique_values\": 5,\n        \"samples\": [\n          \"It\\u2019s Friday again. Why is it so hard for terrorists to resist jihad on Jumma? It\\u2019s a day meant for peace and prayers for humanity but unfortunately terrorists all over the world are misinterpreting things in the same exact way. Point to ponder.\",\n          \"2.@narendramodi,@AmitShah, @HMOIndiaWITH POLITICAL SUPPORT CONVERSION OF ROHINGYAS CONFIRMS NOTORIOUS&amp; BRUTAL NEXUS OF CHRISTIAN MISSIONARY&amp;RADICAL ISLAMIC TERRORIST GROUPS WITH POLITICAL PARTIES INTENDED TO DEMOGRAPHIC CHANGE EVEN IN DELHI RISKING NATIONAL INTEGRITY&amp; SECURITY.\",\n          \"and he used gay as an insult and made rape jokes,, yikes\"\n        ],\n        \"semantic_type\": \"\",\n        \"description\": \"\"\n      }\n    },\n    {\n      \"column\": \"cyberbullying_type\",\n      \"properties\": {\n        \"dtype\": \"number\",\n        \"std\": 0,\n        \"min\": 1,\n        \"max\": 2,\n        \"num_unique_values\": 2,\n        \"samples\": [\n          1,\n          2\n        ],\n        \"semantic_type\": \"\",\n        \"description\": \"\"\n      }\n    },\n    {\n      \"column\": \"clean_tweets\",\n      \"properties\": {\n        \"dtype\": \"string\",\n        \"num_unique_values\": 5,\n        \"samples\": [\n          \"friday hard terrorist resist jihad jumma day meant peace prayer humanity unfortunately terrorist world misinterpreting thing exact way point ponder\",\n          \"political support conversion rohingyas confirms notoriousamp brutal nexus christian missionaryampradical islamic terrorist group political party intended demographic change even delhi risking national integrityamp security\"\n        ],\n        \"semantic_type\": \"\",\n        \"description\": \"\"\n      }\n    }\n  ]\n}",
              "type": "dataframe"
            },
            "text/html": [
              "\n",
              "  <div id=\"df-61280f43-9a1f-41ee-b4ca-66c5a247d407\" class=\"colab-df-container\">\n",
              "    <div>\n",
              "<style scoped>\n",
              "    .dataframe tbody tr th:only-of-type {\n",
              "        vertical-align: middle;\n",
              "    }\n",
              "\n",
              "    .dataframe tbody tr th {\n",
              "        vertical-align: top;\n",
              "    }\n",
              "\n",
              "    .dataframe thead th {\n",
              "        text-align: right;\n",
              "    }\n",
              "</style>\n",
              "<table border=\"1\" class=\"dataframe\">\n",
              "  <thead>\n",
              "    <tr style=\"text-align: right;\">\n",
              "      <th></th>\n",
              "      <th>tweet_text</th>\n",
              "      <th>cyberbullying_type</th>\n",
              "      <th>clean_tweets</th>\n",
              "    </tr>\n",
              "  </thead>\n",
              "  <tbody>\n",
              "    <tr>\n",
              "      <th>18692</th>\n",
              "      <td>More complaining from the Five Time Draft Dodg...</td>\n",
              "      <td>2</td>\n",
              "      <td>complaining five time draft dodger far right r...</td>\n",
              "    </tr>\n",
              "    <tr>\n",
              "      <th>16069</th>\n",
              "      <td>It’s Friday again. Why is it so hard for terro...</td>\n",
              "      <td>2</td>\n",
              "      <td>friday hard terrorist resist jihad jumma day m...</td>\n",
              "    </tr>\n",
              "    <tr>\n",
              "      <th>8333</th>\n",
              "      <td>and he used gay as an insult and made rape jok...</td>\n",
              "      <td>1</td>\n",
              "      <td>used gay insult made rape joke yikes</td>\n",
              "    </tr>\n",
              "    <tr>\n",
              "      <th>8473</th>\n",
              "      <td>Empowered female reporter for Al Jazeera (Kimb...</td>\n",
              "      <td>1</td>\n",
              "      <td>empowered female reporter al jazeera kimberly ...</td>\n",
              "    </tr>\n",
              "    <tr>\n",
              "      <th>22755</th>\n",
              "      <td>2.@narendramodi,@AmitShah, @HMOIndiaWITH POLIT...</td>\n",
              "      <td>2</td>\n",
              "      <td>political support conversion rohingyas confirm...</td>\n",
              "    </tr>\n",
              "  </tbody>\n",
              "</table>\n",
              "</div>\n",
              "    <div class=\"colab-df-buttons\">\n",
              "\n",
              "  <div class=\"colab-df-container\">\n",
              "    <button class=\"colab-df-convert\" onclick=\"convertToInteractive('df-61280f43-9a1f-41ee-b4ca-66c5a247d407')\"\n",
              "            title=\"Convert this dataframe to an interactive table.\"\n",
              "            style=\"display:none;\">\n",
              "\n",
              "  <svg xmlns=\"http://www.w3.org/2000/svg\" height=\"24px\" viewBox=\"0 -960 960 960\">\n",
              "    <path d=\"M120-120v-720h720v720H120Zm60-500h600v-160H180v160Zm220 220h160v-160H400v160Zm0 220h160v-160H400v160ZM180-400h160v-160H180v160Zm440 0h160v-160H620v160ZM180-180h160v-160H180v160Zm440 0h160v-160H620v160Z\"/>\n",
              "  </svg>\n",
              "    </button>\n",
              "\n",
              "  <style>\n",
              "    .colab-df-container {\n",
              "      display:flex;\n",
              "      gap: 12px;\n",
              "    }\n",
              "\n",
              "    .colab-df-convert {\n",
              "      background-color: #E8F0FE;\n",
              "      border: none;\n",
              "      border-radius: 50%;\n",
              "      cursor: pointer;\n",
              "      display: none;\n",
              "      fill: #1967D2;\n",
              "      height: 32px;\n",
              "      padding: 0 0 0 0;\n",
              "      width: 32px;\n",
              "    }\n",
              "\n",
              "    .colab-df-convert:hover {\n",
              "      background-color: #E2EBFA;\n",
              "      box-shadow: 0px 1px 2px rgba(60, 64, 67, 0.3), 0px 1px 3px 1px rgba(60, 64, 67, 0.15);\n",
              "      fill: #174EA6;\n",
              "    }\n",
              "\n",
              "    .colab-df-buttons div {\n",
              "      margin-bottom: 4px;\n",
              "    }\n",
              "\n",
              "    [theme=dark] .colab-df-convert {\n",
              "      background-color: #3B4455;\n",
              "      fill: #D2E3FC;\n",
              "    }\n",
              "\n",
              "    [theme=dark] .colab-df-convert:hover {\n",
              "      background-color: #434B5C;\n",
              "      box-shadow: 0px 1px 3px 1px rgba(0, 0, 0, 0.15);\n",
              "      filter: drop-shadow(0px 1px 2px rgba(0, 0, 0, 0.3));\n",
              "      fill: #FFFFFF;\n",
              "    }\n",
              "  </style>\n",
              "\n",
              "    <script>\n",
              "      const buttonEl =\n",
              "        document.querySelector('#df-61280f43-9a1f-41ee-b4ca-66c5a247d407 button.colab-df-convert');\n",
              "      buttonEl.style.display =\n",
              "        google.colab.kernel.accessAllowed ? 'block' : 'none';\n",
              "\n",
              "      async function convertToInteractive(key) {\n",
              "        const element = document.querySelector('#df-61280f43-9a1f-41ee-b4ca-66c5a247d407');\n",
              "        const dataTable =\n",
              "          await google.colab.kernel.invokeFunction('convertToInteractive',\n",
              "                                                    [key], {});\n",
              "        if (!dataTable) return;\n",
              "\n",
              "        const docLinkHtml = 'Like what you see? Visit the ' +\n",
              "          '<a target=\"_blank\" href=https://colab.research.google.com/notebooks/data_table.ipynb>data table notebook</a>'\n",
              "          + ' to learn more about interactive tables.';\n",
              "        element.innerHTML = '';\n",
              "        dataTable['output_type'] = 'display_data';\n",
              "        await google.colab.output.renderOutput(dataTable, element);\n",
              "        const docLink = document.createElement('div');\n",
              "        docLink.innerHTML = docLinkHtml;\n",
              "        element.appendChild(docLink);\n",
              "      }\n",
              "    </script>\n",
              "  </div>\n",
              "\n",
              "\n",
              "<div id=\"df-6d15189d-678b-44da-9719-256d2e6182c8\">\n",
              "  <button class=\"colab-df-quickchart\" onclick=\"quickchart('df-6d15189d-678b-44da-9719-256d2e6182c8')\"\n",
              "            title=\"Suggest charts\"\n",
              "            style=\"display:none;\">\n",
              "\n",
              "<svg xmlns=\"http://www.w3.org/2000/svg\" height=\"24px\"viewBox=\"0 0 24 24\"\n",
              "     width=\"24px\">\n",
              "    <g>\n",
              "        <path d=\"M19 3H5c-1.1 0-2 .9-2 2v14c0 1.1.9 2 2 2h14c1.1 0 2-.9 2-2V5c0-1.1-.9-2-2-2zM9 17H7v-7h2v7zm4 0h-2V7h2v10zm4 0h-2v-4h2v4z\"/>\n",
              "    </g>\n",
              "</svg>\n",
              "  </button>\n",
              "\n",
              "<style>\n",
              "  .colab-df-quickchart {\n",
              "      --bg-color: #E8F0FE;\n",
              "      --fill-color: #1967D2;\n",
              "      --hover-bg-color: #E2EBFA;\n",
              "      --hover-fill-color: #174EA6;\n",
              "      --disabled-fill-color: #AAA;\n",
              "      --disabled-bg-color: #DDD;\n",
              "  }\n",
              "\n",
              "  [theme=dark] .colab-df-quickchart {\n",
              "      --bg-color: #3B4455;\n",
              "      --fill-color: #D2E3FC;\n",
              "      --hover-bg-color: #434B5C;\n",
              "      --hover-fill-color: #FFFFFF;\n",
              "      --disabled-bg-color: #3B4455;\n",
              "      --disabled-fill-color: #666;\n",
              "  }\n",
              "\n",
              "  .colab-df-quickchart {\n",
              "    background-color: var(--bg-color);\n",
              "    border: none;\n",
              "    border-radius: 50%;\n",
              "    cursor: pointer;\n",
              "    display: none;\n",
              "    fill: var(--fill-color);\n",
              "    height: 32px;\n",
              "    padding: 0;\n",
              "    width: 32px;\n",
              "  }\n",
              "\n",
              "  .colab-df-quickchart:hover {\n",
              "    background-color: var(--hover-bg-color);\n",
              "    box-shadow: 0 1px 2px rgba(60, 64, 67, 0.3), 0 1px 3px 1px rgba(60, 64, 67, 0.15);\n",
              "    fill: var(--button-hover-fill-color);\n",
              "  }\n",
              "\n",
              "  .colab-df-quickchart-complete:disabled,\n",
              "  .colab-df-quickchart-complete:disabled:hover {\n",
              "    background-color: var(--disabled-bg-color);\n",
              "    fill: var(--disabled-fill-color);\n",
              "    box-shadow: none;\n",
              "  }\n",
              "\n",
              "  .colab-df-spinner {\n",
              "    border: 2px solid var(--fill-color);\n",
              "    border-color: transparent;\n",
              "    border-bottom-color: var(--fill-color);\n",
              "    animation:\n",
              "      spin 1s steps(1) infinite;\n",
              "  }\n",
              "\n",
              "  @keyframes spin {\n",
              "    0% {\n",
              "      border-color: transparent;\n",
              "      border-bottom-color: var(--fill-color);\n",
              "      border-left-color: var(--fill-color);\n",
              "    }\n",
              "    20% {\n",
              "      border-color: transparent;\n",
              "      border-left-color: var(--fill-color);\n",
              "      border-top-color: var(--fill-color);\n",
              "    }\n",
              "    30% {\n",
              "      border-color: transparent;\n",
              "      border-left-color: var(--fill-color);\n",
              "      border-top-color: var(--fill-color);\n",
              "      border-right-color: var(--fill-color);\n",
              "    }\n",
              "    40% {\n",
              "      border-color: transparent;\n",
              "      border-right-color: var(--fill-color);\n",
              "      border-top-color: var(--fill-color);\n",
              "    }\n",
              "    60% {\n",
              "      border-color: transparent;\n",
              "      border-right-color: var(--fill-color);\n",
              "    }\n",
              "    80% {\n",
              "      border-color: transparent;\n",
              "      border-right-color: var(--fill-color);\n",
              "      border-bottom-color: var(--fill-color);\n",
              "    }\n",
              "    90% {\n",
              "      border-color: transparent;\n",
              "      border-bottom-color: var(--fill-color);\n",
              "    }\n",
              "  }\n",
              "</style>\n",
              "\n",
              "  <script>\n",
              "    async function quickchart(key) {\n",
              "      const quickchartButtonEl =\n",
              "        document.querySelector('#' + key + ' button');\n",
              "      quickchartButtonEl.disabled = true;  // To prevent multiple clicks.\n",
              "      quickchartButtonEl.classList.add('colab-df-spinner');\n",
              "      try {\n",
              "        const charts = await google.colab.kernel.invokeFunction(\n",
              "            'suggestCharts', [key], {});\n",
              "      } catch (error) {\n",
              "        console.error('Error during call to suggestCharts:', error);\n",
              "      }\n",
              "      quickchartButtonEl.classList.remove('colab-df-spinner');\n",
              "      quickchartButtonEl.classList.add('colab-df-quickchart-complete');\n",
              "    }\n",
              "    (() => {\n",
              "      let quickchartButtonEl =\n",
              "        document.querySelector('#df-6d15189d-678b-44da-9719-256d2e6182c8 button');\n",
              "      quickchartButtonEl.style.display =\n",
              "        google.colab.kernel.accessAllowed ? 'block' : 'none';\n",
              "    })();\n",
              "  </script>\n",
              "</div>\n",
              "\n",
              "    </div>\n",
              "  </div>\n"
            ],
            "text/plain": [
              "                                              tweet_text  cyberbullying_type  \\\n",
              "18692  More complaining from the Five Time Draft Dodg...                   2   \n",
              "16069  It’s Friday again. Why is it so hard for terro...                   2   \n",
              "8333   and he used gay as an insult and made rape jok...                   1   \n",
              "8473   Empowered female reporter for Al Jazeera (Kimb...                   1   \n",
              "22755  2.@narendramodi,@AmitShah, @HMOIndiaWITH POLIT...                   2   \n",
              "\n",
              "                                            clean_tweets  \n",
              "18692  complaining five time draft dodger far right r...  \n",
              "16069  friday hard terrorist resist jihad jumma day m...  \n",
              "8333                used gay insult made rape joke yikes  \n",
              "8473   empowered female reporter al jazeera kimberly ...  \n",
              "22755  political support conversion rohingyas confirm...  "
            ]
          },
          "execution_count": 23,
          "metadata": {},
          "output_type": "execute_result"
        }
      ],
      "source": [
        "# Clean tweets\n",
        "df['clean_tweets'] = df['tweet_text'].map(pre_processing)\n",
        "df.sample(5)"
      ]
    },
    {
      "cell_type": "markdown",
      "metadata": {
        "id": "_HbtNjUuyhTa"
      },
      "source": [
        "Checking again if any values got duplicated."
      ]
    },
    {
      "cell_type": "code",
      "execution_count": null,
      "metadata": {
        "colab": {
          "base_uri": "https://localhost:8080/"
        },
        "id": "i-k33M7gqRMn",
        "outputId": "b3710d1b-66f8-4fd8-d1dc-b67c5df2f5c0"
      },
      "outputs": [
        {
          "data": {
            "text/plain": [
              "1217"
            ]
          },
          "execution_count": 24,
          "metadata": {},
          "output_type": "execute_result"
        }
      ],
      "source": [
        "df['clean_tweets'].duplicated().sum()"
      ]
    },
    {
      "cell_type": "markdown",
      "metadata": {
        "id": "_Gg_1Y9Pykj1"
      },
      "source": [
        "Removing them all."
      ]
    },
    {
      "cell_type": "code",
      "execution_count": null,
      "metadata": {
        "colab": {
          "base_uri": "https://localhost:8080/"
        },
        "id": "5ASLGvOPqT7y",
        "outputId": "101be598-95d9-4d57-e8c0-7a9d5873917b"
      },
      "outputs": [
        {
          "data": {
            "text/plain": [
              "0"
            ]
          },
          "execution_count": 25,
          "metadata": {},
          "output_type": "execute_result"
        }
      ],
      "source": [
        "df.drop_duplicates('clean_tweets', inplace=True, ignore_index=True)\n",
        "df['clean_tweets'].duplicated().sum()"
      ]
    },
    {
      "cell_type": "markdown",
      "metadata": {
        "id": "38pvXRzIyqHS"
      },
      "source": [
        "38557 tweets are remaining.\n",
        "\n",
        "Now that we have processed the tweets, it's time to move forward and calculate the total and average word lengths of each tweet."
      ]
    },
    {
      "cell_type": "code",
      "execution_count": null,
      "metadata": {
        "colab": {
          "base_uri": "https://localhost:8080/"
        },
        "id": "aSyoOIyxqUuE",
        "outputId": "1451f109-6fdb-4df1-bcd0-d805fd54ed74"
      },
      "outputs": [
        {
          "data": {
            "text/plain": [
              "(38557, 3)"
            ]
          },
          "execution_count": 26,
          "metadata": {},
          "output_type": "execute_result"
        }
      ],
      "source": [
        "df.shape"
      ]
    },
    {
      "cell_type": "code",
      "execution_count": null,
      "metadata": {
        "colab": {
          "base_uri": "https://localhost:8080/",
          "height": 289
        },
        "id": "VSQwWMcoqa7t",
        "outputId": "7669b528-0655-4f13-9d86-6d30efd9a088"
      },
      "outputs": [
        {
          "data": {
            "application/vnd.google.colaboratory.intrinsic+json": {
              "summary": "{\n  \"name\": \"df\",\n  \"rows\": 5,\n  \"fields\": [\n    {\n      \"column\": \"tweet_text\",\n      \"properties\": {\n        \"dtype\": \"string\",\n        \"num_unique_values\": 5,\n        \"samples\": [\n          \"Yeah shit 12 year olds are not qualified at all. @CarloOrtega8 I'm not sexist but I would never vote for a girl president\",\n          \"That babcock stuff makes me so fucking angry what a manipulative idiot. No wonder people say he divides the dressing room, when he acts like the girl who bullied you in high school.\",\n          \"acabei de terminar a reda\\u00e7\\u00e3o de portugues, o assunto era bullying, adivinha?? o nome: DEMI LOVATO estava la mais uma vez kkkkkkkk\"\n        ],\n        \"semantic_type\": \"\",\n        \"description\": \"\"\n      }\n    },\n    {\n      \"column\": \"cyberbullying_type\",\n      \"properties\": {\n        \"dtype\": \"number\",\n        \"std\": 1,\n        \"min\": 0,\n        \"max\": 3,\n        \"num_unique_values\": 3,\n        \"samples\": [\n          0,\n          1,\n          3\n        ],\n        \"semantic_type\": \"\",\n        \"description\": \"\"\n      }\n    },\n    {\n      \"column\": \"clean_tweets\",\n      \"properties\": {\n        \"dtype\": \"string\",\n        \"num_unique_values\": 5,\n        \"samples\": [\n          \"yeah shit year old qualified sexist would never vote girl president\",\n          \"babcock stuff make fucking angry manipulative idiot wonder people say divide dressing room act like girl bullied high school\",\n          \"acabei de terminar redao de portugues assunto era bullying adivinha nome demi lovato estava la mais uma vez kkkkkkkk\"\n        ],\n        \"semantic_type\": \"\",\n        \"description\": \"\"\n      }\n    },\n    {\n      \"column\": \"word_count\",\n      \"properties\": {\n        \"dtype\": \"number\",\n        \"std\": 9,\n        \"min\": 11,\n        \"max\": 33,\n        \"num_unique_values\": 5,\n        \"samples\": [\n          23,\n          33,\n          22\n        ],\n        \"semantic_type\": \"\",\n        \"description\": \"\"\n      }\n    }\n  ]\n}",
              "type": "dataframe"
            },
            "text/html": [
              "\n",
              "  <div id=\"df-50bcab4e-75f3-4423-ab72-a74b548c5f0a\" class=\"colab-df-container\">\n",
              "    <div>\n",
              "<style scoped>\n",
              "    .dataframe tbody tr th:only-of-type {\n",
              "        vertical-align: middle;\n",
              "    }\n",
              "\n",
              "    .dataframe tbody tr th {\n",
              "        vertical-align: top;\n",
              "    }\n",
              "\n",
              "    .dataframe thead th {\n",
              "        text-align: right;\n",
              "    }\n",
              "</style>\n",
              "<table border=\"1\" class=\"dataframe\">\n",
              "  <thead>\n",
              "    <tr style=\"text-align: right;\">\n",
              "      <th></th>\n",
              "      <th>tweet_text</th>\n",
              "      <th>cyberbullying_type</th>\n",
              "      <th>clean_tweets</th>\n",
              "      <th>word_count</th>\n",
              "    </tr>\n",
              "  </thead>\n",
              "  <tbody>\n",
              "    <tr>\n",
              "      <th>3610</th>\n",
              "      <td>This having class on Monday and Tuesday thing ...</td>\n",
              "      <td>0</td>\n",
              "      <td>class monday tuesday thing quite homosexual</td>\n",
              "      <td>11</td>\n",
              "    </tr>\n",
              "    <tr>\n",
              "      <th>12260</th>\n",
              "      <td>Yeah shit 12 year olds are not qualified at al...</td>\n",
              "      <td>1</td>\n",
              "      <td>yeah shit year old qualified sexist would neve...</td>\n",
              "      <td>23</td>\n",
              "    </tr>\n",
              "    <tr>\n",
              "      <th>5562</th>\n",
              "      <td>acabei de terminar a redação de portugues, o a...</td>\n",
              "      <td>0</td>\n",
              "      <td>acabei de terminar redao de portugues assunto ...</td>\n",
              "      <td>22</td>\n",
              "    </tr>\n",
              "    <tr>\n",
              "      <th>14523</th>\n",
              "      <td>Fuck it, i'm young. No joke, i'm 69 and gay. R...</td>\n",
              "      <td>1</td>\n",
              "      <td>fuck young joke gay rape</td>\n",
              "      <td>12</td>\n",
              "    </tr>\n",
              "    <tr>\n",
              "      <th>26993</th>\n",
              "      <td>That babcock stuff makes me so fucking angry w...</td>\n",
              "      <td>3</td>\n",
              "      <td>babcock stuff make fucking angry manipulative ...</td>\n",
              "      <td>33</td>\n",
              "    </tr>\n",
              "  </tbody>\n",
              "</table>\n",
              "</div>\n",
              "    <div class=\"colab-df-buttons\">\n",
              "\n",
              "  <div class=\"colab-df-container\">\n",
              "    <button class=\"colab-df-convert\" onclick=\"convertToInteractive('df-50bcab4e-75f3-4423-ab72-a74b548c5f0a')\"\n",
              "            title=\"Convert this dataframe to an interactive table.\"\n",
              "            style=\"display:none;\">\n",
              "\n",
              "  <svg xmlns=\"http://www.w3.org/2000/svg\" height=\"24px\" viewBox=\"0 -960 960 960\">\n",
              "    <path d=\"M120-120v-720h720v720H120Zm60-500h600v-160H180v160Zm220 220h160v-160H400v160Zm0 220h160v-160H400v160ZM180-400h160v-160H180v160Zm440 0h160v-160H620v160ZM180-180h160v-160H180v160Zm440 0h160v-160H620v160Z\"/>\n",
              "  </svg>\n",
              "    </button>\n",
              "\n",
              "  <style>\n",
              "    .colab-df-container {\n",
              "      display:flex;\n",
              "      gap: 12px;\n",
              "    }\n",
              "\n",
              "    .colab-df-convert {\n",
              "      background-color: #E8F0FE;\n",
              "      border: none;\n",
              "      border-radius: 50%;\n",
              "      cursor: pointer;\n",
              "      display: none;\n",
              "      fill: #1967D2;\n",
              "      height: 32px;\n",
              "      padding: 0 0 0 0;\n",
              "      width: 32px;\n",
              "    }\n",
              "\n",
              "    .colab-df-convert:hover {\n",
              "      background-color: #E2EBFA;\n",
              "      box-shadow: 0px 1px 2px rgba(60, 64, 67, 0.3), 0px 1px 3px 1px rgba(60, 64, 67, 0.15);\n",
              "      fill: #174EA6;\n",
              "    }\n",
              "\n",
              "    .colab-df-buttons div {\n",
              "      margin-bottom: 4px;\n",
              "    }\n",
              "\n",
              "    [theme=dark] .colab-df-convert {\n",
              "      background-color: #3B4455;\n",
              "      fill: #D2E3FC;\n",
              "    }\n",
              "\n",
              "    [theme=dark] .colab-df-convert:hover {\n",
              "      background-color: #434B5C;\n",
              "      box-shadow: 0px 1px 3px 1px rgba(0, 0, 0, 0.15);\n",
              "      filter: drop-shadow(0px 1px 2px rgba(0, 0, 0, 0.3));\n",
              "      fill: #FFFFFF;\n",
              "    }\n",
              "  </style>\n",
              "\n",
              "    <script>\n",
              "      const buttonEl =\n",
              "        document.querySelector('#df-50bcab4e-75f3-4423-ab72-a74b548c5f0a button.colab-df-convert');\n",
              "      buttonEl.style.display =\n",
              "        google.colab.kernel.accessAllowed ? 'block' : 'none';\n",
              "\n",
              "      async function convertToInteractive(key) {\n",
              "        const element = document.querySelector('#df-50bcab4e-75f3-4423-ab72-a74b548c5f0a');\n",
              "        const dataTable =\n",
              "          await google.colab.kernel.invokeFunction('convertToInteractive',\n",
              "                                                    [key], {});\n",
              "        if (!dataTable) return;\n",
              "\n",
              "        const docLinkHtml = 'Like what you see? Visit the ' +\n",
              "          '<a target=\"_blank\" href=https://colab.research.google.com/notebooks/data_table.ipynb>data table notebook</a>'\n",
              "          + ' to learn more about interactive tables.';\n",
              "        element.innerHTML = '';\n",
              "        dataTable['output_type'] = 'display_data';\n",
              "        await google.colab.output.renderOutput(dataTable, element);\n",
              "        const docLink = document.createElement('div');\n",
              "        docLink.innerHTML = docLinkHtml;\n",
              "        element.appendChild(docLink);\n",
              "      }\n",
              "    </script>\n",
              "  </div>\n",
              "\n",
              "\n",
              "<div id=\"df-dcc0d678-9232-42c5-993a-51a8e95deee7\">\n",
              "  <button class=\"colab-df-quickchart\" onclick=\"quickchart('df-dcc0d678-9232-42c5-993a-51a8e95deee7')\"\n",
              "            title=\"Suggest charts\"\n",
              "            style=\"display:none;\">\n",
              "\n",
              "<svg xmlns=\"http://www.w3.org/2000/svg\" height=\"24px\"viewBox=\"0 0 24 24\"\n",
              "     width=\"24px\">\n",
              "    <g>\n",
              "        <path d=\"M19 3H5c-1.1 0-2 .9-2 2v14c0 1.1.9 2 2 2h14c1.1 0 2-.9 2-2V5c0-1.1-.9-2-2-2zM9 17H7v-7h2v7zm4 0h-2V7h2v10zm4 0h-2v-4h2v4z\"/>\n",
              "    </g>\n",
              "</svg>\n",
              "  </button>\n",
              "\n",
              "<style>\n",
              "  .colab-df-quickchart {\n",
              "      --bg-color: #E8F0FE;\n",
              "      --fill-color: #1967D2;\n",
              "      --hover-bg-color: #E2EBFA;\n",
              "      --hover-fill-color: #174EA6;\n",
              "      --disabled-fill-color: #AAA;\n",
              "      --disabled-bg-color: #DDD;\n",
              "  }\n",
              "\n",
              "  [theme=dark] .colab-df-quickchart {\n",
              "      --bg-color: #3B4455;\n",
              "      --fill-color: #D2E3FC;\n",
              "      --hover-bg-color: #434B5C;\n",
              "      --hover-fill-color: #FFFFFF;\n",
              "      --disabled-bg-color: #3B4455;\n",
              "      --disabled-fill-color: #666;\n",
              "  }\n",
              "\n",
              "  .colab-df-quickchart {\n",
              "    background-color: var(--bg-color);\n",
              "    border: none;\n",
              "    border-radius: 50%;\n",
              "    cursor: pointer;\n",
              "    display: none;\n",
              "    fill: var(--fill-color);\n",
              "    height: 32px;\n",
              "    padding: 0;\n",
              "    width: 32px;\n",
              "  }\n",
              "\n",
              "  .colab-df-quickchart:hover {\n",
              "    background-color: var(--hover-bg-color);\n",
              "    box-shadow: 0 1px 2px rgba(60, 64, 67, 0.3), 0 1px 3px 1px rgba(60, 64, 67, 0.15);\n",
              "    fill: var(--button-hover-fill-color);\n",
              "  }\n",
              "\n",
              "  .colab-df-quickchart-complete:disabled,\n",
              "  .colab-df-quickchart-complete:disabled:hover {\n",
              "    background-color: var(--disabled-bg-color);\n",
              "    fill: var(--disabled-fill-color);\n",
              "    box-shadow: none;\n",
              "  }\n",
              "\n",
              "  .colab-df-spinner {\n",
              "    border: 2px solid var(--fill-color);\n",
              "    border-color: transparent;\n",
              "    border-bottom-color: var(--fill-color);\n",
              "    animation:\n",
              "      spin 1s steps(1) infinite;\n",
              "  }\n",
              "\n",
              "  @keyframes spin {\n",
              "    0% {\n",
              "      border-color: transparent;\n",
              "      border-bottom-color: var(--fill-color);\n",
              "      border-left-color: var(--fill-color);\n",
              "    }\n",
              "    20% {\n",
              "      border-color: transparent;\n",
              "      border-left-color: var(--fill-color);\n",
              "      border-top-color: var(--fill-color);\n",
              "    }\n",
              "    30% {\n",
              "      border-color: transparent;\n",
              "      border-left-color: var(--fill-color);\n",
              "      border-top-color: var(--fill-color);\n",
              "      border-right-color: var(--fill-color);\n",
              "    }\n",
              "    40% {\n",
              "      border-color: transparent;\n",
              "      border-right-color: var(--fill-color);\n",
              "      border-top-color: var(--fill-color);\n",
              "    }\n",
              "    60% {\n",
              "      border-color: transparent;\n",
              "      border-right-color: var(--fill-color);\n",
              "    }\n",
              "    80% {\n",
              "      border-color: transparent;\n",
              "      border-right-color: var(--fill-color);\n",
              "      border-bottom-color: var(--fill-color);\n",
              "    }\n",
              "    90% {\n",
              "      border-color: transparent;\n",
              "      border-bottom-color: var(--fill-color);\n",
              "    }\n",
              "  }\n",
              "</style>\n",
              "\n",
              "  <script>\n",
              "    async function quickchart(key) {\n",
              "      const quickchartButtonEl =\n",
              "        document.querySelector('#' + key + ' button');\n",
              "      quickchartButtonEl.disabled = true;  // To prevent multiple clicks.\n",
              "      quickchartButtonEl.classList.add('colab-df-spinner');\n",
              "      try {\n",
              "        const charts = await google.colab.kernel.invokeFunction(\n",
              "            'suggestCharts', [key], {});\n",
              "      } catch (error) {\n",
              "        console.error('Error during call to suggestCharts:', error);\n",
              "      }\n",
              "      quickchartButtonEl.classList.remove('colab-df-spinner');\n",
              "      quickchartButtonEl.classList.add('colab-df-quickchart-complete');\n",
              "    }\n",
              "    (() => {\n",
              "      let quickchartButtonEl =\n",
              "        document.querySelector('#df-dcc0d678-9232-42c5-993a-51a8e95deee7 button');\n",
              "      quickchartButtonEl.style.display =\n",
              "        google.colab.kernel.accessAllowed ? 'block' : 'none';\n",
              "    })();\n",
              "  </script>\n",
              "</div>\n",
              "\n",
              "    </div>\n",
              "  </div>\n"
            ],
            "text/plain": [
              "                                              tweet_text  cyberbullying_type  \\\n",
              "3610   This having class on Monday and Tuesday thing ...                   0   \n",
              "12260  Yeah shit 12 year olds are not qualified at al...                   1   \n",
              "5562   acabei de terminar a redação de portugues, o a...                   0   \n",
              "14523  Fuck it, i'm young. No joke, i'm 69 and gay. R...                   1   \n",
              "26993  That babcock stuff makes me so fucking angry w...                   3   \n",
              "\n",
              "                                            clean_tweets  word_count  \n",
              "3610         class monday tuesday thing quite homosexual          11  \n",
              "12260  yeah shit year old qualified sexist would neve...          23  \n",
              "5562   acabei de terminar redao de portugues assunto ...          22  \n",
              "14523                           fuck young joke gay rape          12  \n",
              "26993  babcock stuff make fucking angry manipulative ...          33  "
            ]
          },
          "execution_count": 27,
          "metadata": {},
          "output_type": "execute_result"
        }
      ],
      "source": [
        "# Total word count of a tweet\n",
        "df['word_count'] = df['tweet_text'].map(lambda x: len(x.split()))\n",
        "df.sample(5)"
      ]
    },
    {
      "cell_type": "code",
      "execution_count": null,
      "metadata": {
        "id": "tltTJEqhvuAC"
      },
      "outputs": [],
      "source": [
        "#import pandas as pd\n",
        "#from google.colab import files\n",
        "\n",
        "# Save the DataFrame to a CSV file in the Colab environment\n",
        "#df.to_csv('cleaned_dataset.csv', index=False)\n",
        "\n",
        "# Download the file to your local system\n",
        "#files.download('cleaned_dataset.csv')"
      ]
    },
    {
      "cell_type": "code",
      "execution_count": null,
      "metadata": {
        "colab": {
          "base_uri": "https://localhost:8080/",
          "height": 289
        },
        "id": "A1rBTHqkqfAF",
        "outputId": "ab2daf79-55fe-414e-f84f-0e37516bdbbb"
      },
      "outputs": [
        {
          "data": {
            "application/vnd.google.colaboratory.intrinsic+json": {
              "summary": "{\n  \"name\": \"df\",\n  \"rows\": 5,\n  \"fields\": [\n    {\n      \"column\": \"tweet_text\",\n      \"properties\": {\n        \"dtype\": \"string\",\n        \"num_unique_values\": 5,\n        \"samples\": [\n          \"Deplorable is too nice a word for you GABI and I bet you are a bible thumping Christian woman too right? Bless your heart . Khary we got your back bro\",\n          \"Listen. There's a Christian woman boldly proclaiming she wont wear a mask and only \\\"fragile\\\" ppl should because she has no fear and wont let gubment take her rights. Forget the elderly, neighbors and sick members of Gods house though...\",\n          \"middle school bullies were the worst bullies\"\n        ],\n        \"semantic_type\": \"\",\n        \"description\": \"\"\n      }\n    },\n    {\n      \"column\": \"cyberbullying_type\",\n      \"properties\": {\n        \"dtype\": \"number\",\n        \"std\": 1,\n        \"min\": 0,\n        \"max\": 3,\n        \"num_unique_values\": 3,\n        \"samples\": [\n          2,\n          3,\n          0\n        ],\n        \"semantic_type\": \"\",\n        \"description\": \"\"\n      }\n    },\n    {\n      \"column\": \"clean_tweets\",\n      \"properties\": {\n        \"dtype\": \"string\",\n        \"num_unique_values\": 5,\n        \"samples\": [\n          \"deplorable nice word gabi bet bible thumping christian woman right bless heart khary got back bro\",\n          \"listen there christian woman boldly proclaiming wont wear mask fragile ppl fear wont let gubment take right forget elderly neighbor sick member god house though\",\n          \"middle school bully worst bully\"\n        ],\n        \"semantic_type\": \"\",\n        \"description\": \"\"\n      }\n    },\n    {\n      \"column\": \"word_count\",\n      \"properties\": {\n        \"dtype\": \"number\",\n        \"std\": 18,\n        \"min\": 7,\n        \"max\": 48,\n        \"num_unique_values\": 5,\n        \"samples\": [\n          31,\n          40,\n          7\n        ],\n        \"semantic_type\": \"\",\n        \"description\": \"\"\n      }\n    },\n    {\n      \"column\": \"avg_word_length\",\n      \"properties\": {\n        \"dtype\": \"number\",\n        \"std\": 1.2214213032365204,\n        \"min\": 3.87,\n        \"max\": 7.1,\n        \"num_unique_values\": 5,\n        \"samples\": [\n          3.87,\n          4.92,\n          5.43\n        ],\n        \"semantic_type\": \"\",\n        \"description\": \"\"\n      }\n    }\n  ]\n}",
              "type": "dataframe"
            },
            "text/html": [
              "\n",
              "  <div id=\"df-491a7987-9793-4051-a817-6baacc2d4c31\" class=\"colab-df-container\">\n",
              "    <div>\n",
              "<style scoped>\n",
              "    .dataframe tbody tr th:only-of-type {\n",
              "        vertical-align: middle;\n",
              "    }\n",
              "\n",
              "    .dataframe tbody tr th {\n",
              "        vertical-align: top;\n",
              "    }\n",
              "\n",
              "    .dataframe thead th {\n",
              "        text-align: right;\n",
              "    }\n",
              "</style>\n",
              "<table border=\"1\" class=\"dataframe\">\n",
              "  <thead>\n",
              "    <tr style=\"text-align: right;\">\n",
              "      <th></th>\n",
              "      <th>tweet_text</th>\n",
              "      <th>cyberbullying_type</th>\n",
              "      <th>clean_tweets</th>\n",
              "      <th>word_count</th>\n",
              "      <th>avg_word_length</th>\n",
              "    </tr>\n",
              "  </thead>\n",
              "  <tbody>\n",
              "    <tr>\n",
              "      <th>17775</th>\n",
              "      <td>You just juggle topics to suit your narrative ...</td>\n",
              "      <td>2</td>\n",
              "      <td>juggle topic suit narrative really pathetic ta...</td>\n",
              "      <td>48</td>\n",
              "      <td>4.52</td>\n",
              "    </tr>\n",
              "    <tr>\n",
              "      <th>19824</th>\n",
              "      <td>Deplorable is too nice a word for you GABI and...</td>\n",
              "      <td>2</td>\n",
              "      <td>deplorable nice word gabi bet bible thumping c...</td>\n",
              "      <td>31</td>\n",
              "      <td>3.87</td>\n",
              "    </tr>\n",
              "    <tr>\n",
              "      <th>29434</th>\n",
              "      <td>middle school bullies were the worst bullies</td>\n",
              "      <td>3</td>\n",
              "      <td>middle school bully worst bully</td>\n",
              "      <td>7</td>\n",
              "      <td>5.43</td>\n",
              "    </tr>\n",
              "    <tr>\n",
              "      <th>5346</th>\n",
              "      <td>@iFalasteen No, this is what Muslim brutality ...</td>\n",
              "      <td>0</td>\n",
              "      <td>muslim brutality look like</td>\n",
              "      <td>10</td>\n",
              "      <td>7.10</td>\n",
              "    </tr>\n",
              "    <tr>\n",
              "      <th>15433</th>\n",
              "      <td>Listen. There's a Christian woman boldly procl...</td>\n",
              "      <td>2</td>\n",
              "      <td>listen there christian woman boldly proclaimin...</td>\n",
              "      <td>40</td>\n",
              "      <td>4.92</td>\n",
              "    </tr>\n",
              "  </tbody>\n",
              "</table>\n",
              "</div>\n",
              "    <div class=\"colab-df-buttons\">\n",
              "\n",
              "  <div class=\"colab-df-container\">\n",
              "    <button class=\"colab-df-convert\" onclick=\"convertToInteractive('df-491a7987-9793-4051-a817-6baacc2d4c31')\"\n",
              "            title=\"Convert this dataframe to an interactive table.\"\n",
              "            style=\"display:none;\">\n",
              "\n",
              "  <svg xmlns=\"http://www.w3.org/2000/svg\" height=\"24px\" viewBox=\"0 -960 960 960\">\n",
              "    <path d=\"M120-120v-720h720v720H120Zm60-500h600v-160H180v160Zm220 220h160v-160H400v160Zm0 220h160v-160H400v160ZM180-400h160v-160H180v160Zm440 0h160v-160H620v160ZM180-180h160v-160H180v160Zm440 0h160v-160H620v160Z\"/>\n",
              "  </svg>\n",
              "    </button>\n",
              "\n",
              "  <style>\n",
              "    .colab-df-container {\n",
              "      display:flex;\n",
              "      gap: 12px;\n",
              "    }\n",
              "\n",
              "    .colab-df-convert {\n",
              "      background-color: #E8F0FE;\n",
              "      border: none;\n",
              "      border-radius: 50%;\n",
              "      cursor: pointer;\n",
              "      display: none;\n",
              "      fill: #1967D2;\n",
              "      height: 32px;\n",
              "      padding: 0 0 0 0;\n",
              "      width: 32px;\n",
              "    }\n",
              "\n",
              "    .colab-df-convert:hover {\n",
              "      background-color: #E2EBFA;\n",
              "      box-shadow: 0px 1px 2px rgba(60, 64, 67, 0.3), 0px 1px 3px 1px rgba(60, 64, 67, 0.15);\n",
              "      fill: #174EA6;\n",
              "    }\n",
              "\n",
              "    .colab-df-buttons div {\n",
              "      margin-bottom: 4px;\n",
              "    }\n",
              "\n",
              "    [theme=dark] .colab-df-convert {\n",
              "      background-color: #3B4455;\n",
              "      fill: #D2E3FC;\n",
              "    }\n",
              "\n",
              "    [theme=dark] .colab-df-convert:hover {\n",
              "      background-color: #434B5C;\n",
              "      box-shadow: 0px 1px 3px 1px rgba(0, 0, 0, 0.15);\n",
              "      filter: drop-shadow(0px 1px 2px rgba(0, 0, 0, 0.3));\n",
              "      fill: #FFFFFF;\n",
              "    }\n",
              "  </style>\n",
              "\n",
              "    <script>\n",
              "      const buttonEl =\n",
              "        document.querySelector('#df-491a7987-9793-4051-a817-6baacc2d4c31 button.colab-df-convert');\n",
              "      buttonEl.style.display =\n",
              "        google.colab.kernel.accessAllowed ? 'block' : 'none';\n",
              "\n",
              "      async function convertToInteractive(key) {\n",
              "        const element = document.querySelector('#df-491a7987-9793-4051-a817-6baacc2d4c31');\n",
              "        const dataTable =\n",
              "          await google.colab.kernel.invokeFunction('convertToInteractive',\n",
              "                                                    [key], {});\n",
              "        if (!dataTable) return;\n",
              "\n",
              "        const docLinkHtml = 'Like what you see? Visit the ' +\n",
              "          '<a target=\"_blank\" href=https://colab.research.google.com/notebooks/data_table.ipynb>data table notebook</a>'\n",
              "          + ' to learn more about interactive tables.';\n",
              "        element.innerHTML = '';\n",
              "        dataTable['output_type'] = 'display_data';\n",
              "        await google.colab.output.renderOutput(dataTable, element);\n",
              "        const docLink = document.createElement('div');\n",
              "        docLink.innerHTML = docLinkHtml;\n",
              "        element.appendChild(docLink);\n",
              "      }\n",
              "    </script>\n",
              "  </div>\n",
              "\n",
              "\n",
              "<div id=\"df-0c9f5fe8-0224-4e2c-af32-bceb3a9b6f2b\">\n",
              "  <button class=\"colab-df-quickchart\" onclick=\"quickchart('df-0c9f5fe8-0224-4e2c-af32-bceb3a9b6f2b')\"\n",
              "            title=\"Suggest charts\"\n",
              "            style=\"display:none;\">\n",
              "\n",
              "<svg xmlns=\"http://www.w3.org/2000/svg\" height=\"24px\"viewBox=\"0 0 24 24\"\n",
              "     width=\"24px\">\n",
              "    <g>\n",
              "        <path d=\"M19 3H5c-1.1 0-2 .9-2 2v14c0 1.1.9 2 2 2h14c1.1 0 2-.9 2-2V5c0-1.1-.9-2-2-2zM9 17H7v-7h2v7zm4 0h-2V7h2v10zm4 0h-2v-4h2v4z\"/>\n",
              "    </g>\n",
              "</svg>\n",
              "  </button>\n",
              "\n",
              "<style>\n",
              "  .colab-df-quickchart {\n",
              "      --bg-color: #E8F0FE;\n",
              "      --fill-color: #1967D2;\n",
              "      --hover-bg-color: #E2EBFA;\n",
              "      --hover-fill-color: #174EA6;\n",
              "      --disabled-fill-color: #AAA;\n",
              "      --disabled-bg-color: #DDD;\n",
              "  }\n",
              "\n",
              "  [theme=dark] .colab-df-quickchart {\n",
              "      --bg-color: #3B4455;\n",
              "      --fill-color: #D2E3FC;\n",
              "      --hover-bg-color: #434B5C;\n",
              "      --hover-fill-color: #FFFFFF;\n",
              "      --disabled-bg-color: #3B4455;\n",
              "      --disabled-fill-color: #666;\n",
              "  }\n",
              "\n",
              "  .colab-df-quickchart {\n",
              "    background-color: var(--bg-color);\n",
              "    border: none;\n",
              "    border-radius: 50%;\n",
              "    cursor: pointer;\n",
              "    display: none;\n",
              "    fill: var(--fill-color);\n",
              "    height: 32px;\n",
              "    padding: 0;\n",
              "    width: 32px;\n",
              "  }\n",
              "\n",
              "  .colab-df-quickchart:hover {\n",
              "    background-color: var(--hover-bg-color);\n",
              "    box-shadow: 0 1px 2px rgba(60, 64, 67, 0.3), 0 1px 3px 1px rgba(60, 64, 67, 0.15);\n",
              "    fill: var(--button-hover-fill-color);\n",
              "  }\n",
              "\n",
              "  .colab-df-quickchart-complete:disabled,\n",
              "  .colab-df-quickchart-complete:disabled:hover {\n",
              "    background-color: var(--disabled-bg-color);\n",
              "    fill: var(--disabled-fill-color);\n",
              "    box-shadow: none;\n",
              "  }\n",
              "\n",
              "  .colab-df-spinner {\n",
              "    border: 2px solid var(--fill-color);\n",
              "    border-color: transparent;\n",
              "    border-bottom-color: var(--fill-color);\n",
              "    animation:\n",
              "      spin 1s steps(1) infinite;\n",
              "  }\n",
              "\n",
              "  @keyframes spin {\n",
              "    0% {\n",
              "      border-color: transparent;\n",
              "      border-bottom-color: var(--fill-color);\n",
              "      border-left-color: var(--fill-color);\n",
              "    }\n",
              "    20% {\n",
              "      border-color: transparent;\n",
              "      border-left-color: var(--fill-color);\n",
              "      border-top-color: var(--fill-color);\n",
              "    }\n",
              "    30% {\n",
              "      border-color: transparent;\n",
              "      border-left-color: var(--fill-color);\n",
              "      border-top-color: var(--fill-color);\n",
              "      border-right-color: var(--fill-color);\n",
              "    }\n",
              "    40% {\n",
              "      border-color: transparent;\n",
              "      border-right-color: var(--fill-color);\n",
              "      border-top-color: var(--fill-color);\n",
              "    }\n",
              "    60% {\n",
              "      border-color: transparent;\n",
              "      border-right-color: var(--fill-color);\n",
              "    }\n",
              "    80% {\n",
              "      border-color: transparent;\n",
              "      border-right-color: var(--fill-color);\n",
              "      border-bottom-color: var(--fill-color);\n",
              "    }\n",
              "    90% {\n",
              "      border-color: transparent;\n",
              "      border-bottom-color: var(--fill-color);\n",
              "    }\n",
              "  }\n",
              "</style>\n",
              "\n",
              "  <script>\n",
              "    async function quickchart(key) {\n",
              "      const quickchartButtonEl =\n",
              "        document.querySelector('#' + key + ' button');\n",
              "      quickchartButtonEl.disabled = true;  // To prevent multiple clicks.\n",
              "      quickchartButtonEl.classList.add('colab-df-spinner');\n",
              "      try {\n",
              "        const charts = await google.colab.kernel.invokeFunction(\n",
              "            'suggestCharts', [key], {});\n",
              "      } catch (error) {\n",
              "        console.error('Error during call to suggestCharts:', error);\n",
              "      }\n",
              "      quickchartButtonEl.classList.remove('colab-df-spinner');\n",
              "      quickchartButtonEl.classList.add('colab-df-quickchart-complete');\n",
              "    }\n",
              "    (() => {\n",
              "      let quickchartButtonEl =\n",
              "        document.querySelector('#df-0c9f5fe8-0224-4e2c-af32-bceb3a9b6f2b button');\n",
              "      quickchartButtonEl.style.display =\n",
              "        google.colab.kernel.accessAllowed ? 'block' : 'none';\n",
              "    })();\n",
              "  </script>\n",
              "</div>\n",
              "\n",
              "    </div>\n",
              "  </div>\n"
            ],
            "text/plain": [
              "                                              tweet_text  cyberbullying_type  \\\n",
              "17775  You just juggle topics to suit your narrative ...                   2   \n",
              "19824  Deplorable is too nice a word for you GABI and...                   2   \n",
              "29434       middle school bullies were the worst bullies                   3   \n",
              "5346   @iFalasteen No, this is what Muslim brutality ...                   0   \n",
              "15433  Listen. There's a Christian woman boldly procl...                   2   \n",
              "\n",
              "                                            clean_tweets  word_count  \\\n",
              "17775  juggle topic suit narrative really pathetic ta...          48   \n",
              "19824  deplorable nice word gabi bet bible thumping c...          31   \n",
              "29434                    middle school bully worst bully           7   \n",
              "5346                          muslim brutality look like          10   \n",
              "15433  listen there christian woman boldly proclaimin...          40   \n",
              "\n",
              "       avg_word_length  \n",
              "17775             4.52  \n",
              "19824             3.87  \n",
              "29434             5.43  \n",
              "5346              7.10  \n",
              "15433             4.92  "
            ]
          },
          "execution_count": 29,
          "metadata": {},
          "output_type": "execute_result"
        }
      ],
      "source": [
        "# Average word length of a tweet\n",
        "def avg_word_length(tweet):\n",
        "    words = tweet.split()\n",
        "    word_count = len(words)\n",
        "    word_length = 0\n",
        "    for word in words:\n",
        "        word_length += len(word)\n",
        "    avg_length = round(word_length / word_count,2)\n",
        "    return avg_length\n",
        "\n",
        "df['avg_word_length'] = df['tweet_text'].map(avg_word_length)\n",
        "df.sample(5)"
      ]
    },
    {
      "cell_type": "markdown",
      "metadata": {
        "id": "Rl3CrRVxyxmg"
      },
      "source": [
        "We can also remove the outliers and the tweets useless to us from this dataset, like this"
      ]
    },
    {
      "cell_type": "code",
      "execution_count": null,
      "metadata": {
        "colab": {
          "base_uri": "https://localhost:8080/"
        },
        "id": "OSPx4Ti7qj-K",
        "outputId": "f80bfc18-deba-478d-c7ee-673e9b20d8dd"
      },
      "outputs": [
        {
          "data": {
            "text/plain": [
              "(38201, 5)"
            ]
          },
          "execution_count": 30,
          "metadata": {},
          "output_type": "execute_result"
        }
      ],
      "source": [
        "df = df[df['word_count']>3]\n",
        "df = df[df['word_count']<100]\n",
        "df.reset_index(drop=True, inplace=True)\n",
        "df.shape"
      ]
    },
    {
      "cell_type": "code",
      "execution_count": null,
      "metadata": {
        "colab": {
          "background_save": true,
          "base_uri": "https://localhost:8080/"
        },
        "id": "2jmTxUzcdbMZ",
        "outputId": "c93214b9-efba-4dd7-ae28-ed716231a648"
      },
      "outputs": [
        {
          "name": "stderr",
          "output_type": "stream",
          "text": [
            "[nltk_data] Downloading package vader_lexicon to /root/nltk_data...\n"
          ]
        }
      ],
      "source": [
        "import nltk.sentiment\n",
        "nltk.download('vader_lexicon')\n",
        "\n",
        "def get_score(input_text):\n",
        "    analyzer = nltk.sentiment.SentimentIntensityAnalyzer()\n",
        "    scores = analyzer.polarity_scores(input_text)\n",
        "    sentiment_score = scores['compound']\n",
        "    return sentiment_score\n",
        "\n",
        "def get_reaction(score):\n",
        "    if(score > 0.5):\n",
        "        return 'Highly Positive'\n",
        "    if(score > 0):\n",
        "        return 'Positive'\n",
        "    if(score == 0):\n",
        "        return 'Neutral'\n",
        "    if(score < -0.5):\n",
        "        return 'Highly Negative'\n",
        "    if(score < 0):\n",
        "        return 'Negative'\n",
        "\n",
        "def main():\n",
        "    input_text = input(\"Please enter a sentence : \")\n",
        "    score = get_score(input_text)\n",
        "    reaction = get_reaction(score)\n",
        "    print('Sentiment score : ', score)\n",
        "    print(reaction)\n",
        "if __name__ == \"__main__\":\n",
        "    main()\n"
      ]
    },
    {
      "cell_type": "markdown",
      "metadata": {
        "id": "ffG6_7psy28Q"
      },
      "source": [
        "**Data Visualization**"
      ]
    },
    {
      "cell_type": "code",
      "execution_count": null,
      "metadata": {
        "id": "8Ze_VyV9qoW3"
      },
      "outputs": [],
      "source": [
        "sns.set_theme()\n",
        "plt.figure(figsize=(10, 5))\n",
        "ax = sns.countplot(data=df, y='cyberbullying_type', palette=\"viridis\")\n",
        "ax.bar_label(ax.containers[0])\n",
        "plt.yticks(ticks=[0,1,2,3,4], labels=cyberbullying_type)\n",
        "plt.xlabel('Tweets Count', size=15)\n",
        "plt.ylabel('Type', size=15)\n",
        "plt.grid(color='w')"
      ]
    },
    {
      "cell_type": "markdown",
      "metadata": {
        "id": "diqOS1uOy8_h"
      },
      "source": [
        "All the classes look balanced."
      ]
    },
    {
      "cell_type": "code",
      "execution_count": null,
      "metadata": {
        "id": "eRx9ev0bqu7B"
      },
      "outputs": [],
      "source": [
        "plt.figure(figsize=(10, 5))\n",
        "sns.boxplot(data=df, y='cyberbullying_type', x='word_count', orient='h', showfliers=False,\n",
        "            palette='viridis', notch=True, medianprops={\"color\": \"coral\"})\n",
        "plt.yticks(ticks=[0,1,2,3,4], labels=cyberbullying_type)\n",
        "plt.xlabel('Word Length', size=15)\n",
        "plt.ylabel('Type', size=15)\n",
        "plt.grid(color='w')"
      ]
    },
    {
      "cell_type": "markdown",
      "metadata": {
        "id": "_p1FLSgCzB1V"
      },
      "source": [
        "We can observe that the tweets targeted towards a gender tend to have a bit less words in them than say, the ones targeted towards religion.\n",
        "But overall, a bullying tweet has more words in it and is more varied than a normal one."
      ]
    },
    {
      "cell_type": "code",
      "execution_count": null,
      "metadata": {
        "id": "yqtyRoV_q0Fb"
      },
      "outputs": [],
      "source": [
        "plt.figure(figsize=(8, 5))\n",
        "sns.violinplot(data=df, y='cyberbullying_type', x='avg_word_length', orient='h', palette='mako')\n",
        "plt.xlim(0, 10)\n",
        "plt.yticks(ticks=[0,1,2,3,4], labels=cyberbullying_type)\n",
        "plt.xlabel('Average Word Length', size=14)\n",
        "plt.ylabel('Type', size=15)\n",
        "plt.grid(color='w')"
      ]
    },
    {
      "cell_type": "markdown",
      "metadata": {
        "id": "VEN03If-zGVX"
      },
      "source": [
        "Pretty much the same for all, between 4 to 6 letters."
      ]
    },
    {
      "cell_type": "code",
      "execution_count": null,
      "metadata": {
        "id": "B15DNBcfq53P"
      },
      "outputs": [],
      "source": [
        "plt.figure(figsize=(8, 5))\n",
        "sns.jointplot(data=df, y='avg_word_length', x='word_count', hue='cyberbullying_type', palette='rainbow')\n",
        "plt.xlabel('Total Words', size=15)\n",
        "plt.ylabel('Average Word Length', size=14)"
      ]
    },
    {
      "cell_type": "markdown",
      "metadata": {
        "id": "XIWJ-U-OzMOC"
      },
      "source": [
        "**Word Clouds**"
      ]
    },
    {
      "cell_type": "code",
      "execution_count": null,
      "metadata": {
        "id": "PGtPMeqyq_bd"
      },
      "outputs": [],
      "source": [
        "# Gender\n",
        "plt.figure(figsize=(10, 10))\n",
        "subset1 = df[df['cyberbullying_type']==1]\n",
        "text_gender = subset1['clean_tweets'].values\n",
        "wc1 = WordCloud(background_color='white', colormap='Dark2', width=2000, height=1000).generate(' '.join(text_gender))\n",
        "plt.axis('off')\n",
        "plt.title(\"Gender\", fontsize=20)\n",
        "plt.imshow(wc1, interpolation='bilinear')"
      ]
    },
    {
      "cell_type": "code",
      "execution_count": null,
      "metadata": {
        "id": "lnfPBJ1nrIHr"
      },
      "outputs": [],
      "source": [
        "# Religion\n",
        "plt.figure(figsize=(10, 10))\n",
        "subset2 = df[df['cyberbullying_type']==2]\n",
        "text_religion = subset2['clean_tweets'].values\n",
        "wc2 = WordCloud(background_color='white', colormap='Dark2', width=2000, height=1000).generate(' '.join(text_religion))\n",
        "\n",
        "plt.axis('off')\n",
        "plt.title(\"Religion\", fontsize=20)\n",
        "plt.imshow(wc2, interpolation='bilinear')"
      ]
    },
    {
      "cell_type": "code",
      "execution_count": null,
      "metadata": {
        "id": "1s0FXw7WrN5F"
      },
      "outputs": [],
      "source": [
        "# Age\n",
        "plt.figure(figsize=(10, 10))\n",
        "subset3 = df[df['cyberbullying_type']==3]\n",
        "text_age = subset3['clean_tweets'].values\n",
        "wc3 = WordCloud(background_color='white', colormap='Dark2', width=2000, height=1000).generate(' '.join(text_age))\n",
        "\n",
        "plt.axis('off')\n",
        "plt.title(\"Age\", fontsize=20)\n",
        "plt.imshow(wc3, interpolation='bilinear')"
      ]
    },
    {
      "cell_type": "code",
      "execution_count": null,
      "metadata": {
        "id": "iz6hEE3IrTxl"
      },
      "outputs": [],
      "source": [
        "# Ethnicity\n",
        "plt.figure(figsize=(10, 10))\n",
        "subset4 = df[df['cyberbullying_type']==4]\n",
        "text_ethnicity = subset4['clean_tweets'].values\n",
        "wc4 = WordCloud(background_color='white', colormap='Dark2', width=2000, height=1000).generate(' '.join(text_ethnicity))\n",
        "\n",
        "plt.axis('off')\n",
        "plt.title(\"Ethnicity\", fontsize=20)\n",
        "plt.imshow(wc4, interpolation='bilinear')"
      ]
    },
    {
      "cell_type": "code",
      "execution_count": null,
      "metadata": {
        "id": "FPEGIhtBrXc-"
      },
      "outputs": [],
      "source": [
        "# Not Bullying\n",
        "plt.figure(figsize=(10, 10))\n",
        "subset0 = df[df['cyberbullying_type']==0]\n",
        "text_not = subset0['clean_tweets'].values\n",
        "wc0 = WordCloud(background_color='white', colormap='Dark2', width=2000, height=1000).generate(' '.join(text_not))\n",
        "\n",
        "plt.axis('off')\n",
        "plt.title(\"Not Bullying\", fontsize=20)\n",
        "plt.imshow(wc0, interpolation='bilinear')"
      ]
    },
    {
      "cell_type": "code",
      "execution_count": null,
      "metadata": {
        "id": "qfADX6dZrZ4E"
      },
      "outputs": [],
      "source": [
        "# All Tweets\n",
        "plt.figure(figsize=(10, 10))\n",
        "text_all = df['clean_tweets'].values\n",
        "wc = WordCloud(background_color='white', colormap='Dark2', width=2000, height=1000).generate(' '.join(text_all))\n",
        "\n",
        "plt.axis('off')\n",
        "plt.title(\"All Tweets\", fontsize=20)\n",
        "plt.imshow(wc, interpolation='bilinear')"
      ]
    },
    {
      "cell_type": "markdown",
      "metadata": {
        "id": "zUL4qf7dzW1B"
      },
      "source": [
        "Now that we're done with the wordclouds, let's check which words are the most popular."
      ]
    },
    {
      "cell_type": "code",
      "execution_count": null,
      "metadata": {
        "id": "bYKkH2qnrf6g"
      },
      "outputs": [],
      "source": [
        "from collections import Counter   # To count the frequency of each word\n",
        "\n",
        "temp=[]\n",
        "for tweet in df['clean_tweets']:\n",
        "  for word in tweet.split():\n",
        "    temp.append(word)\n",
        "vocab = Counter(temp)\n",
        "print(\"Vocabulary Size:\", len(vocab))\n",
        "print(list(vocab.items())[:5])"
      ]
    },
    {
      "cell_type": "markdown",
      "metadata": {
        "id": "7UJ-KLebza5a"
      },
      "source": [
        "vocab contains the frequency of all the unique words in the whole dataset. Pretty interesting.\n",
        "Let's try to plot it and see what we get."
      ]
    },
    {
      "cell_type": "code",
      "execution_count": null,
      "metadata": {
        "id": "NNBA83zfrkem"
      },
      "outputs": [],
      "source": [
        "common_word=[]\n",
        "freq=[]\n",
        "for i, j in vocab.most_common()[:10]:\n",
        "  common_word.append(i)\n",
        "  freq.append(j)"
      ]
    },
    {
      "cell_type": "code",
      "execution_count": null,
      "metadata": {
        "id": "FIc6iWXNrsHE"
      },
      "outputs": [],
      "source": [
        "# Most common words\n",
        "plt.figure(figsize=(10, 5))\n",
        "ax = sns.barplot(x=common_word, y=freq, palette='viridis')\n",
        "plt.title('Top 10 most common words', size=20)\n",
        "ax.bar_label(ax.containers[0])\n",
        "plt.ylabel(\"Word Length\", size=15)\n",
        "plt.grid()"
      ]
    },
    {
      "cell_type": "code",
      "execution_count": null,
      "metadata": {
        "id": "8n-e0sRXgz9P"
      },
      "outputs": [],
      "source": [
        "from transformers import pipeline\n",
        "\n",
        "# Load pre-trained emotion detection model\n",
        "emotion_model = pipeline(\"text-classification\", model=\"j-hartmann/emotion-english-distilroberta-base\", return_all_scores=True)\n",
        "\n",
        "# Function to detect emotions\n",
        "def detect_emotions(texts):\n",
        "    # Pass the input text to the model\n",
        "    predictions = emotion_model(texts)\n",
        "\n",
        "    # Collect emotions and scores\n",
        "    results = []\n",
        "    for i, prediction in enumerate(predictions):\n",
        "        emotions = {item['label']: item['score'] for item in prediction}\n",
        "        sorted_emotions = sorted(emotions.items(), key=lambda x: x[1], reverse=True)\n",
        "        results.append({\n",
        "            \"text\": texts[i],\n",
        "            \"top_emotion\": sorted_emotions[0][0],  # Most likely emotion\n",
        "            \"emotion_scores\": emotions             # All emotions with their respective scores\n",
        "        })\n",
        "    return results\n",
        "\n",
        "# Test the function with some sample texts\n",
        "texts = [\n",
        "    \"feeling perturbed woman arent humble kindly go set fire\"\n",
        "    \"Rebecca Black Drops Out of School Due to Bullying\",\n",
        "    \"meh thanks head concerned another angry dude twitter\",\n",
        "    \"This is so frustrating and annoying!\",\n",
        "    \"Wow, I'm really surprised by this amazing news!\",\n",
        "    \"I'm feeling anxious about tomorrow.\"\n",
        "]\n",
        "\n",
        "# Get emotion predictions\n",
        "emotion_results = detect_emotions(texts)\n",
        "\n",
        "# Display the results\n",
        "for result in emotion_results:\n",
        "    print(f\"Text: {result['text']}\")\n",
        "    print(f\"Top Emotion: {result['top_emotion']}\")\n",
        "    print(f\"Emotion Scores: {result['emotion_scores']}\")\n",
        "    print(\"-\" * 50)\n"
      ]
    },
    {
      "cell_type": "markdown",
      "metadata": {
        "id": "sHxzG1YYziYY"
      },
      "source": [
        "**ML Classifiers**\n",
        "\n",
        "Now that we have analyzed and visualized the dataset, had some reality check after seeing the wordclouds, its time to get our hands dirty and apply various ML classifiers to it, and see which one performs the best.\n",
        "\n",
        "First, we start by splitting the data into train and test."
      ]
    },
    {
      "cell_type": "code",
      "execution_count": null,
      "metadata": {
        "id": "r084nrVLrtWa"
      },
      "outputs": [],
      "source": [
        "X = df['clean_tweets']\n",
        "y = df['cyberbullying_type']\n",
        "X_train, X_test, y_train, y_test = train_test_split(X, y, test_size=0.2, stratify=y, random_state=76)"
      ]
    },
    {
      "cell_type": "markdown",
      "metadata": {
        "id": "uTz7FIYPzqXU"
      },
      "source": [
        "TF-IDF Vectorization"
      ]
    },
    {
      "cell_type": "code",
      "execution_count": null,
      "metadata": {
        "id": "XdA77gZ2rxcE"
      },
      "outputs": [],
      "source": [
        "tfidf = TfidfVectorizer(ngram_range=(1,2))\n",
        "tfidf.fit(X_train)    # Fit on train\n",
        "print(\"No. of feature words:\", len(tfidf.get_feature_names_out()))"
      ]
    },
    {
      "cell_type": "code",
      "execution_count": null,
      "metadata": {
        "id": "7vgBnDGisK9U"
      },
      "outputs": [],
      "source": [
        "X_train_tf = tfidf.transform(X_train)\n",
        "X_test_tf = tfidf.transform(X_test)\n",
        "print(f\"{X_train_tf.shape = }\\n{X_test_tf.shape = }\")"
      ]
    },
    {
      "cell_type": "markdown",
      "metadata": {
        "id": "2FUPWPoEzxH9"
      },
      "source": [
        "We're ready now, time to apply the models.\n",
        "\n",
        "**Logistic Regression**"
      ]
    },
    {
      "cell_type": "code",
      "execution_count": null,
      "metadata": {
        "id": "dcyRobqZsO-o"
      },
      "outputs": [],
      "source": [
        "# Model training\n",
        "lr = LogisticRegression(solver='saga', penalty='l2', random_state=394)\n",
        "lr.fit(X_train_tf, y_train)"
      ]
    },
    {
      "cell_type": "code",
      "execution_count": null,
      "metadata": {
        "id": "tUg1fqjdsWmx"
      },
      "outputs": [],
      "source": [
        "# Model prediction\n",
        "y_pred_train = lr.predict(X_train_tf)\n",
        "y_pred_test = lr.predict(X_test_tf)"
      ]
    },
    {
      "cell_type": "markdown",
      "metadata": {
        "id": "I3C7BODKz69p"
      },
      "source": [
        "Our Logistic Regression Model is ready, let's evaluate it."
      ]
    },
    {
      "cell_type": "code",
      "execution_count": null,
      "metadata": {
        "id": "BT1HRJXWseHh"
      },
      "outputs": [],
      "source": [
        "# Model evaluation\n",
        "print('\\tClassification Report for Logistic Regression on Train\\n\\n', classification_report(y_train, y_pred_train, target_names=cyberbullying_type))\n",
        "print('\\n\\tClassification Report for Logistic Regression on Test\\n\\n', classification_report(y_test, y_pred_test, target_names=cyberbullying_type))"
      ]
    },
    {
      "cell_type": "markdown",
      "metadata": {
        "id": "NEphuNDy0Hqe"
      },
      "source": [
        "The performance scores of the algorithm are very good, with an overall accurcy of 92%.\n",
        "We can observe how the predictions for the classes have very high F1 scores, while for the class \"non-cyberbullying\" the score is much lower."
      ]
    },
    {
      "cell_type": "code",
      "execution_count": null,
      "metadata": {
        "id": "UF-qP9nQsiSY"
      },
      "outputs": [],
      "source": [
        "# Confusion Matrix for Logistic Regression\n",
        "sns.heatmap(confusion_matrix(y_test, y_pred_test), annot=True, cmap=\"Greens\", fmt='', cbar=False)\n",
        "plt.xlabel(\"Predicted values\", fontdict = {'size':14}, labelpad = 10)\n",
        "plt.ylabel(\"Actual values\", fontdict = {'size':14}, labelpad = 10)\n",
        "plt.title('Confusion Matrix LR', size=15)"
      ]
    },
    {
      "cell_type": "markdown",
      "metadata": {
        "id": "SSlTxqk30Pv3"
      },
      "source": [
        "Let's try to predict on other models also, then we can compare.\n",
        "\n",
        "**Naive-Bayes**"
      ]
    },
    {
      "cell_type": "code",
      "execution_count": null,
      "metadata": {
        "id": "FlqrfPCAsqg7"
      },
      "outputs": [],
      "source": [
        "# Model training\n",
        "mnb = MultinomialNB(alpha=0.1)\n",
        "mnb.fit(X_train_tf, y_train)"
      ]
    },
    {
      "cell_type": "code",
      "execution_count": null,
      "metadata": {
        "id": "Z2FyvB7Tsvqe"
      },
      "outputs": [],
      "source": [
        "# Model prediction\n",
        "y_pred_train = mnb.predict(X_train_tf)\n",
        "y_pred_test = mnb.predict(X_test_tf)"
      ]
    },
    {
      "cell_type": "code",
      "execution_count": null,
      "metadata": {
        "id": "Ve0et1Pes0Fi"
      },
      "outputs": [],
      "source": [
        "# Model evaluation\n",
        "print('\\tClassification Report for Naive-Bayes\\' on Train\\n\\n', classification_report(y_train, y_pred_train, target_names=cyberbullying_type))\n",
        "print('\\n\\tClassification Report for Naive-Bayes\\' on Test\\n\\n', classification_report(y_test, y_pred_test, target_names=cyberbullying_type))"
      ]
    },
    {
      "cell_type": "markdown",
      "metadata": {
        "id": "Wrjufnax0cqh"
      },
      "source": [
        "This clearly looks like a case of overfitting, or high variance, and Naive-Bayes' is famous for it.\n",
        "Again we can see the 'not_cyberbullying' class performing worst, as it's too generic.\n",
        "\n",
        "Let's see if we could resolve this issue in the next model, i.e., Random Forest."
      ]
    },
    {
      "cell_type": "code",
      "execution_count": null,
      "metadata": {
        "id": "g4Zq3CPKs54u"
      },
      "outputs": [],
      "source": [
        "# Confusion Matrix for Naive-Bayes'\n",
        "sns.heatmap(confusion_matrix(y_test, y_pred_test), annot=True, cmap=\"Greens\", fmt='', cbar=False)\n",
        "plt.xlabel(\"Predicted values\", fontdict = {'size':14}, labelpad = 10)\n",
        "plt.ylabel(\"Actual values\", fontdict = {'size':14}, labelpad = 10)\n",
        "plt.title('Confusion Matrix NB', size=15)"
      ]
    },
    {
      "cell_type": "markdown",
      "metadata": {
        "id": "46Um12gn0iut"
      },
      "source": [
        "**Random Forest**"
      ]
    },
    {
      "cell_type": "code",
      "execution_count": null,
      "metadata": {
        "id": "nlrop4GCs_JF"
      },
      "outputs": [],
      "source": [
        "# Model training\n",
        "rf = RandomForestClassifier(n_estimators=100, criterion=\"entropy\", max_depth=30, random_state=27)\n",
        "rf.fit(X_train_tf, y_train)"
      ]
    },
    {
      "cell_type": "markdown",
      "metadata": {
        "id": "pnYZ0dw_0oHJ"
      },
      "source": [
        "Applied hyperparameter tuning using GridSearchCV below to find the best parameters for our model."
      ]
    },
    {
      "cell_type": "markdown",
      "metadata": {
        "id": "Z90tpZ-x0uzL"
      },
      "source": [
        "I've commented this block out as it takes too much time to run.\n",
        "From here we can get the best parameters to use with Random Forest. I've applied them already."
      ]
    },
    {
      "cell_type": "code",
      "execution_count": null,
      "metadata": {
        "id": "UTftOV5ltQq5"
      },
      "outputs": [],
      "source": [
        "# Model prediction\n",
        "y_pred_train = rf.predict(X_train_tf)\n",
        "y_pred_test = rf.predict(X_test_tf)"
      ]
    },
    {
      "cell_type": "markdown",
      "metadata": {
        "id": "TqEviK4503vL"
      },
      "source": [
        "It did reduce the overfitting issue and gave an impressive accuracy of 90% also."
      ]
    },
    {
      "cell_type": "code",
      "execution_count": null,
      "metadata": {
        "id": "L3KKhHRZtTWz"
      },
      "outputs": [],
      "source": [
        "# Model evaluation\n",
        "print('\\tClassification Report for Random Forest on Train\\n\\n', classification_report(y_train, y_pred_train, target_names=cyberbullying_type))\n",
        "print('\\n\\tClassification Report for Random Forest on Test\\n\\n', classification_report(y_test, y_pred_test, target_names=cyberbullying_type))"
      ]
    },
    {
      "cell_type": "code",
      "execution_count": null,
      "metadata": {
        "id": "0pyYKyMytZ6V"
      },
      "outputs": [],
      "source": [
        "# Confusion Matrix for Random Forest\n",
        "sns.heatmap(confusion_matrix(y_test, y_pred_test), annot=True, cmap=\"Greens\", fmt='', cbar=False)\n",
        "plt.xlabel(\"Predicted values\", fontdict = {'size':14}, labelpad = 10)\n",
        "plt.ylabel(\"Actual values\", fontdict = {'size':14}, labelpad = 10)\n",
        "plt.title('Confusion Matrix RF', size=15)"
      ]
    },
    {
      "cell_type": "markdown",
      "metadata": {
        "id": "Nr3EysN01AY6"
      },
      "source": [
        "So far, Logistic Regression has performed the best with an amazing 92% accuracy.\n",
        "Random Forest coming in at a close second with 90% accuracy overall.\n",
        "\n",
        "Ensemble\n",
        "\n",
        "We're going to use Voting technique here to aggregate the predictions, in order to improve the performance of our model."
      ]
    },
    {
      "cell_type": "code",
      "execution_count": null,
      "metadata": {
        "id": "Ow-w8Gl8teYX"
      },
      "outputs": [],
      "source": [
        "# Model Training\n",
        "from sklearn.ensemble import VotingClassifier\n",
        "\n",
        "vot = VotingClassifier(estimators = [('lr', lr), ('mnb', mnb), ('rf', rf)], voting='soft')\n",
        "vot.fit(X_train_tf, y_train)"
      ]
    },
    {
      "cell_type": "code",
      "execution_count": null,
      "metadata": {
        "id": "c1prgX1ztpCE"
      },
      "outputs": [],
      "source": [
        "# Model prediction\n",
        "y_pred_train = vot.predict(X_train_tf)\n",
        "y_pred_test = vot.predict(X_test_tf)"
      ]
    },
    {
      "cell_type": "code",
      "execution_count": null,
      "metadata": {
        "id": "5nxBEUAKtvFJ"
      },
      "outputs": [],
      "source": [
        "# Model evaluation\n",
        "print('\\tClassification Report for Voting on Train\\n\\n', classification_report(y_train, y_pred_train, target_names=cyberbullying_type))\n",
        "print('\\n\\tClassification Report for Voting on Test\\n\\n', classification_report(y_test, y_pred_test, target_names=cyberbullying_type))"
      ]
    },
    {
      "cell_type": "markdown",
      "metadata": {
        "id": "ma5aCzEW1Krs"
      },
      "source": [
        "As good as it can get. 91% accuracy on test data. We're using this model for all our future predictions."
      ]
    },
    {
      "cell_type": "code",
      "execution_count": null,
      "metadata": {
        "id": "DlCJZSgwty_r"
      },
      "outputs": [],
      "source": [
        "# Confusion Matrix after Voting\n",
        "sns.heatmap(confusion_matrix(y_test, y_pred_test), annot=True, cmap=\"Greens\", fmt='', cbar=False)\n",
        "plt.xlabel(\"Predicted values\", fontdict = {'size':14}, labelpad = 10)\n",
        "plt.ylabel(\"Actual values\", fontdict = {'size':14}, labelpad = 10)\n",
        "plt.title('Confusion Matrix Voting', size=15)"
      ]
    },
    {
      "cell_type": "markdown",
      "metadata": {
        "id": "2Ox3yp_U1SYv"
      },
      "source": [
        "Except 'not_bullying', all of our classes have been predicted well, with over 90% accuracy.\n",
        "\n",
        "Now our final task is to get our model up and running, and use it to predict on some random texts.\n",
        "\n",
        "**Model Saving, Loading and Prediction**\n",
        "\n",
        "We can save our model, so it can be used whenever we require.\n",
        "Here I have used pickle library for saving and loading."
      ]
    },
    {
      "cell_type": "code",
      "execution_count": null,
      "metadata": {
        "id": "4Ymh6Q4Pt2M2"
      },
      "outputs": [],
      "source": [
        "# Saving Logistic Regression Model\n",
        "model_file = open('LogisticRegression.pickle','wb')\n",
        "pickle.dump(lr, model_file)\n",
        "model_file.close()\n",
        "\n",
        "# Saving Naive-Bayes' Model\n",
        "model_file = open('NaiveBayes.pickle','wb')\n",
        "pickle.dump(mnb, model_file)\n",
        "model_file.close()\n",
        "\n",
        "# Saving Random Forest Model\n",
        "model_file = open('RandomForest.pickle','wb')\n",
        "pickle.dump(rf, model_file)\n",
        "model_file.close()\n",
        "\n",
        "# Saving our final voting aggregated model\n",
        "model_file = open('Voting.pickle','wb')\n",
        "pickle.dump(vot, model_file)\n",
        "model_file.close()"
      ]
    },
    {
      "cell_type": "markdown",
      "metadata": {
        "id": "CzUZa-SH1lZG"
      },
      "source": [
        "Prediction using saved model"
      ]
    },
    {
      "cell_type": "code",
      "execution_count": null,
      "metadata": {
        "id": "IhY0pNF_uOlD"
      },
      "outputs": [],
      "source": [
        "# Defing our custom prediction function\n",
        "def predict(model, texts):\n",
        "    clean_texts = [pre_processing_custom(text) for text in texts]\n",
        "    text_data = tfidf.transform(clean_texts)\n",
        "    prediction = model.predict(text_data)\n",
        "\n",
        "    data = []\n",
        "    for text, prediction in zip(texts, prediction):\n",
        "        data.append((text, prediction))\n",
        "\n",
        "    df = pd.DataFrame(data, columns = ['text','type'])\n",
        "    df = df.replace([0,1,2,3,4], cyberbullying_type)\n",
        "    return df"
      ]
    },
    {
      "cell_type": "markdown",
      "metadata": {
        "id": "vJio9YiM1rMY"
      },
      "source": [
        "Prediction"
      ]
    },
    {
      "cell_type": "code",
      "execution_count": null,
      "metadata": {
        "id": "A69RlS4guP4U"
      },
      "outputs": [],
      "source": [
        "# Using our best model\n",
        "model_file = open('Voting.pickle', 'rb')\n",
        "model = pickle.load(model_file)\n",
        "model_file.close()\n",
        "\n",
        "# Providing some random toxic texts\n",
        "texts = [\"I hate you bitch\",\n",
        "        \"School shooting. Haha dead.\",\n",
        "        \"Treat them like black slaves\",\n",
        "        \"I don't feel so good Mr. Potter\",\n",
        "        \"christians are the worst\"\n",
        "        ]\n",
        "\n",
        "#Our final prediction\n",
        "predict(model, texts)"
      ]
    },
    {
      "cell_type": "markdown",
      "metadata": {
        "id": "tOAvv0nw1xl7"
      },
      "source": [
        "Even for a small sample of texts, our model is working perfectly and predicting as expected."
      ]
    }
  ],
  "metadata": {
    "colab": {
      "provenance": [],
      "include_colab_link": true
    },
    "kernelspec": {
      "display_name": "Python 3",
      "name": "python3"
    },
    "language_info": {
      "name": "python"
    }
  },
  "nbformat": 4,
  "nbformat_minor": 0
}